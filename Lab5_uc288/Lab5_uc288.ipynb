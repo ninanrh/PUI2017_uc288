{
 "cells": [
  {
   "cell_type": "code",
   "execution_count": 16,
   "metadata": {
    "collapsed": false
   },
   "outputs": [
    {
     "name": "stdout",
     "output_type": "stream",
     "text": [
      "Populating the interactive namespace from numpy and matplotlib\n"
     ]
    }
   ],
   "source": [
    "from __future__ import print_function\n",
    "import numpy as np\n",
    "import matplotlib.pylab as pl\n",
    "import statsmodels.api as sm\n",
    "import statsmodels.formula.api as smf\n",
    "import pandas as pd\n",
    "\n",
    "%pylab inline"
   ]
  },
  {
   "cell_type": "code",
   "execution_count": 2,
   "metadata": {
    "collapsed": true
   },
   "outputs": [],
   "source": [
    "np.random.seed(999)"
   ]
  },
  {
   "cell_type": "code",
   "execution_count": 3,
   "metadata": {
    "collapsed": false
   },
   "outputs": [
    {
     "data": {
      "text/plain": [
       "array([ 82.30852361,  57.47700661,  20.72003185,  67.57132998,\n",
       "        18.18327365,  39.90031127,  48.46428527,  59.89472312,\n",
       "        66.53138702,  72.76536498,  81.095472  ,  21.87013176,\n",
       "        40.84934065,  28.14036497,  73.65918071,  13.00593379,\n",
       "        91.83250392,  46.46445984,  78.43919233,  52.63825382,\n",
       "        35.80470261,  77.61632399,  18.73809491,  47.11220095,\n",
       "        35.34750663,  45.12500025,  88.39982886,  17.31206055,\n",
       "        60.21380486,  59.27808509,  39.89827627,  97.59419322,\n",
       "        35.76484879,  55.74317488,  23.31556623,  27.67905863,\n",
       "        85.67380097,  10.33778829,  80.43589091,  85.01299452,\n",
       "        94.41166046,  97.53414969,  84.95407377,  15.92358453,\n",
       "        46.34133041,  43.73141377,  55.67512121,  98.00892637,\n",
       "        83.7091188 ,  26.87871197])"
      ]
     },
     "execution_count": 3,
     "metadata": {},
     "output_type": "execute_result"
    }
   ],
   "source": [
    "# Generate the data\n",
    "x = np.random.uniform(10, 100, 50)\n",
    "x"
   ]
  },
  {
   "cell_type": "code",
   "execution_count": 4,
   "metadata": {
    "collapsed": true
   },
   "outputs": [],
   "source": [
    "def makealine(x, a=10, b=5):\n",
    "    '''\n",
    "    Generate the y values based on the x values\n",
    "    '''\n",
    "    y = (a * x) + b\n",
    "    return y + np.random.randn(len(y)) * y.mean()"
   ]
  },
  {
   "cell_type": "code",
   "execution_count": 5,
   "metadata": {
    "collapsed": false
   },
   "outputs": [
    {
     "data": {
      "text/plain": [
       "array([ 1416.70160935,  1218.146257  ,   210.86995132,   718.94174978,\n",
       "         654.45479603,   769.30347581,    98.64365647,   328.6789011 ,\n",
       "        1004.25152707,   898.57644187,   677.25728272,   530.7166093 ,\n",
       "         719.67828764,   341.40704382,   306.73640188,   483.42474846,\n",
       "        1632.46199728,   358.00184943,   -74.50454608,  1543.42867089,\n",
       "         290.14748671,  1299.44940775,  1203.591711  ,   963.67813878,\n",
       "          89.59265329,   959.35204026,   254.67306192,   -69.96435541,\n",
       "         379.71600684,   836.91305891,   352.00527476,  2356.23437287,\n",
       "        -197.51675479,  1050.87171319,   908.34521463,  1113.84797969,\n",
       "         619.73338653,   678.10393568,   893.21042693,  1453.18506797,\n",
       "        1117.06756445,  1245.42075737,   821.997851  ,  -643.84364599,\n",
       "        1025.24817773,   578.75137609,  -225.3277826 ,  1781.59225805,\n",
       "        1574.09052152,   870.16993056])"
      ]
     },
     "execution_count": 5,
     "metadata": {},
     "output_type": "execute_result"
    }
   ],
   "source": [
    "y = makealine(x)\n",
    "y"
   ]
  },
  {
   "cell_type": "code",
   "execution_count": 6,
   "metadata": {
    "collapsed": false
   },
   "outputs": [
    {
     "data": {
      "text/plain": [
       "[<matplotlib.lines.Line2D at 0x7f558cebb898>]"
      ]
     },
     "execution_count": 6,
     "metadata": {},
     "output_type": "execute_result"
    },
    {
     "data": {
      "image/png": "[encoded data removed]",
      "text/plain": [
       "<matplotlib.figure.Figure at 0x7f558ce58eb8>"
      ]
     },
     "metadata": {},
     "output_type": "display_data"
    }
   ],
   "source": [
    "pl.plot(x, y, '.')"
   ]
  },
  {
   "cell_type": "code",
   "execution_count": 7,
   "metadata": {
    "collapsed": false
   },
   "outputs": [
    {
     "data": {
      "text/plain": [
       "['GEE',\n",
       " 'GLM',\n",
       " 'GLS',\n",
       " 'GLSAR',\n",
       " 'Logit',\n",
       " 'MNLogit',\n",
       " 'MixedLM',\n",
       " 'NegativeBinomial',\n",
       " 'NominalGEE',\n",
       " 'OLS',\n",
       " 'OrdinalGEE',\n",
       " 'PHReg',\n",
       " 'Poisson',\n",
       " 'ProbPlot',\n",
       " 'Probit',\n",
       " 'QuantReg',\n",
       " 'RLM',\n",
       " 'WLS',\n",
       " '__builtins__',\n",
       " '__cached__',\n",
       " '__doc__',\n",
       " '__file__',\n",
       " '__loader__',\n",
       " '__name__',\n",
       " '__package__',\n",
       " '__spec__',\n",
       " 'add_constant',\n",
       " 'categorical',\n",
       " 'cov_struct',\n",
       " 'datasets',\n",
       " 'distributions',\n",
       " 'emplike',\n",
       " 'families',\n",
       " 'formula',\n",
       " 'genmod',\n",
       " 'graphics',\n",
       " 'iolib',\n",
       " 'load',\n",
       " 'nonparametric',\n",
       " 'qqline',\n",
       " 'qqplot',\n",
       " 'qqplot_2samples',\n",
       " 'regression',\n",
       " 'robust',\n",
       " 'show_versions',\n",
       " 'stats',\n",
       " 'test',\n",
       " 'tools',\n",
       " 'tsa',\n",
       " 'version',\n",
       " 'webdoc']"
      ]
     },
     "execution_count": 7,
     "metadata": {},
     "output_type": "execute_result"
    }
   ],
   "source": [
    "# returns all the function of the package\n",
    "dir(sm)"
   ]
  },
  {
   "cell_type": "code",
   "execution_count": 8,
   "metadata": {
    "collapsed": false
   },
   "outputs": [
    {
     "data": {
      "text/plain": [
       "array([[  1.        ,  82.30852361],\n",
       "       [  1.        ,  57.47700661],\n",
       "       [  1.        ,  20.72003185],\n",
       "       [  1.        ,  67.57132998],\n",
       "       [  1.        ,  18.18327365],\n",
       "       [  1.        ,  39.90031127],\n",
       "       [  1.        ,  48.46428527],\n",
       "       [  1.        ,  59.89472312],\n",
       "       [  1.        ,  66.53138702],\n",
       "       [  1.        ,  72.76536498],\n",
       "       [  1.        ,  81.095472  ],\n",
       "       [  1.        ,  21.87013176],\n",
       "       [  1.        ,  40.84934065],\n",
       "       [  1.        ,  28.14036497],\n",
       "       [  1.        ,  73.65918071],\n",
       "       [  1.        ,  13.00593379],\n",
       "       [  1.        ,  91.83250392],\n",
       "       [  1.        ,  46.46445984],\n",
       "       [  1.        ,  78.43919233],\n",
       "       [  1.        ,  52.63825382],\n",
       "       [  1.        ,  35.80470261],\n",
       "       [  1.        ,  77.61632399],\n",
       "       [  1.        ,  18.73809491],\n",
       "       [  1.        ,  47.11220095],\n",
       "       [  1.        ,  35.34750663],\n",
       "       [  1.        ,  45.12500025],\n",
       "       [  1.        ,  88.39982886],\n",
       "       [  1.        ,  17.31206055],\n",
       "       [  1.        ,  60.21380486],\n",
       "       [  1.        ,  59.27808509],\n",
       "       [  1.        ,  39.89827627],\n",
       "       [  1.        ,  97.59419322],\n",
       "       [  1.        ,  35.76484879],\n",
       "       [  1.        ,  55.74317488],\n",
       "       [  1.        ,  23.31556623],\n",
       "       [  1.        ,  27.67905863],\n",
       "       [  1.        ,  85.67380097],\n",
       "       [  1.        ,  10.33778829],\n",
       "       [  1.        ,  80.43589091],\n",
       "       [  1.        ,  85.01299452],\n",
       "       [  1.        ,  94.41166046],\n",
       "       [  1.        ,  97.53414969],\n",
       "       [  1.        ,  84.95407377],\n",
       "       [  1.        ,  15.92358453],\n",
       "       [  1.        ,  46.34133041],\n",
       "       [  1.        ,  43.73141377],\n",
       "       [  1.        ,  55.67512121],\n",
       "       [  1.        ,  98.00892637],\n",
       "       [  1.        ,  83.7091188 ],\n",
       "       [  1.        ,  26.87871197]])"
      ]
     },
     "execution_count": 8,
     "metadata": {},
     "output_type": "execute_result"
    }
   ],
   "source": [
    "x_2d = sm.add_constant(x)\n",
    "x_2d"
   ]
  },
  {
   "cell_type": "code",
   "execution_count": 9,
   "metadata": {
    "collapsed": true
   },
   "outputs": [],
   "source": [
    "lm = sm.OLS(y, x_2d).fit()"
   ]
  },
  {
   "cell_type": "code",
   "execution_count": 10,
   "metadata": {
    "collapsed": false
   },
   "outputs": [
    {
     "data": {
      "text/plain": [
       "array([ 1042.9689244 ,   777.9111048 ,   385.557968  ,   885.66043575,\n",
       "         358.47997682,   590.29306505,   681.70706426,   803.71841516,\n",
       "         874.55982465,   941.10286366,  1030.0205083 ,   397.83442191,\n",
       "         600.42324184,   464.76445861,   950.64367621,   303.21575699,\n",
       "        1144.63027104,   660.36042772,  1001.66671512,   726.26104793,\n",
       "         546.57551444,   992.88321275,   364.40227764,   667.27457823,\n",
       "         541.69529024,   646.06270127,  1107.98903937,   349.18043045,\n",
       "         807.12437338,   797.13626675,   590.27134289,  1206.13198282,\n",
       "         546.15010479,   759.40375146,   413.26335081,   459.8403594 ,\n",
       "        1078.89073615,   274.73530491,  1022.97997492,  1071.83712299,\n",
       "        1172.16083266,  1205.49106321,  1071.20818819,   334.35949029,\n",
       "         659.04611343,   631.18721079,   758.67732957,  1210.55894815,\n",
       "        1057.91922764,   451.29725906])"
      ]
     },
     "execution_count": 10,
     "metadata": {},
     "output_type": "execute_result"
    }
   ],
   "source": [
    "lm.fittedvalues"
   ]
  },
  {
   "cell_type": "code",
   "execution_count": 11,
   "metadata": {
    "collapsed": false
   },
   "outputs": [
    {
     "data": {
      "text/plain": [
       "[<matplotlib.lines.Line2D at 0x7f558ce58b38>]"
      ]
     },
     "execution_count": 11,
     "metadata": {},
     "output_type": "execute_result"
    },
    {
     "data": {
      "image/png": "[encoded data removed]",
      "text/plain": [
       "<matplotlib.figure.Figure at 0x7f558ce58ef0>"
      ]
     },
     "metadata": {},
     "output_type": "display_data"
    }
   ],
   "source": [
    "pl.plot(x, y, '.')\n",
    "pl.plot(x, lm.fittedvalues)"
   ]
  },
  {
   "cell_type": "code",
   "execution_count": 12,
   "metadata": {
    "collapsed": false
   },
   "outputs": [
    {
     "data": {
      "text/html": [
       "<table class=\"simpletable\">\n",
       "<caption>OLS Regression Results</caption>\n",
       "<tr>\n",
       "  <th>Dep. Variable:</th>            <td>y</td>        <th>  R-squared:         </th> <td>   0.241</td>\n",
       "</tr>\n",
       "<tr>\n",
       "  <th>Model:</th>                   <td>OLS</td>       <th>  Adj. R-squared:    </th> <td>   0.225</td>\n",
       "</tr>\n",
       "<tr>\n",
       "  <th>Method:</th>             <td>Least Squares</td>  <th>  F-statistic:       </th> <td>   15.25</td>\n",
       "</tr>\n",
       "<tr>\n",
       "  <th>Date:</th>             <td>Thu, 19 Oct 2017</td> <th>  Prob (F-statistic):</th> <td>0.000294</td>\n",
       "</tr>\n",
       "<tr>\n",
       "  <th>Time:</th>                 <td>09:44:53</td>     <th>  Log-Likelihood:    </th> <td> -381.35</td>\n",
       "</tr>\n",
       "<tr>\n",
       "  <th>No. Observations:</th>      <td>    50</td>      <th>  AIC:               </th> <td>   766.7</td>\n",
       "</tr>\n",
       "<tr>\n",
       "  <th>Df Residuals:</th>          <td>    48</td>      <th>  BIC:               </th> <td>   770.5</td>\n",
       "</tr>\n",
       "<tr>\n",
       "  <th>Df Model:</th>              <td>     1</td>      <th>                     </th>     <td> </td>   \n",
       "</tr>\n",
       "<tr>\n",
       "  <th>Covariance Type:</th>      <td>nonrobust</td>    <th>                     </th>     <td> </td>   \n",
       "</tr>\n",
       "</table>\n",
       "<table class=\"simpletable\">\n",
       "<tr>\n",
       "    <td></td>       <th>coef</th>     <th>std err</th>      <th>t</th>      <th>P>|t|</th> <th>[95.0% Conf. Int.]</th> \n",
       "</tr>\n",
       "<tr>\n",
       "  <th>const</th> <td>  164.3872</td> <td>  165.827</td> <td>    0.991</td> <td> 0.327</td> <td> -169.030   497.804</td>\n",
       "</tr>\n",
       "<tr>\n",
       "  <th>x1</th>    <td>   10.6742</td> <td>    2.733</td> <td>    3.905</td> <td> 0.000</td> <td>    5.179    16.170</td>\n",
       "</tr>\n",
       "</table>\n",
       "<table class=\"simpletable\">\n",
       "<tr>\n",
       "  <th>Omnibus:</th>       <td> 0.498</td> <th>  Durbin-Watson:     </th> <td>   2.283</td>\n",
       "</tr>\n",
       "<tr>\n",
       "  <th>Prob(Omnibus):</th> <td> 0.779</td> <th>  Jarque-Bera (JB):  </th> <td>   0.636</td>\n",
       "</tr>\n",
       "<tr>\n",
       "  <th>Skew:</th>          <td>-0.192</td> <th>  Prob(JB):          </th> <td>   0.728</td>\n",
       "</tr>\n",
       "<tr>\n",
       "  <th>Kurtosis:</th>      <td> 2.604</td> <th>  Cond. No.          </th> <td>    140.</td>\n",
       "</tr>\n",
       "</table>"
      ],
      "text/plain": [
       "<class 'statsmodels.iolib.summary.Summary'>\n",
       "\"\"\"\n",
       "                            OLS Regression Results                            \n",
       "==============================================================================\n",
       "Dep. Variable:                      y   R-squared:                       0.241\n",
       "Model:                            OLS   Adj. R-squared:                  0.225\n",
       "Method:                 Least Squares   F-statistic:                     15.25\n",
       "Date:                Thu, 19 Oct 2017   Prob (F-statistic):           0.000294\n",
       "Time:                        09:44:53   Log-Likelihood:                -381.35\n",
       "No. Observations:                  50   AIC:                             766.7\n",
       "Df Residuals:                      48   BIC:                             770.5\n",
       "Df Model:                           1                                         \n",
       "Covariance Type:            nonrobust                                         \n",
       "==============================================================================\n",
       "                 coef    std err          t      P>|t|      [95.0% Conf. Int.]\n",
       "------------------------------------------------------------------------------\n",
       "const        164.3872    165.827      0.991      0.327      -169.030   497.804\n",
       "x1            10.6742      2.733      3.905      0.000         5.179    16.170\n",
       "==============================================================================\n",
       "Omnibus:                        0.498   Durbin-Watson:                   2.283\n",
       "Prob(Omnibus):                  0.779   Jarque-Bera (JB):                0.636\n",
       "Skew:                          -0.192   Prob(JB):                        0.728\n",
       "Kurtosis:                       2.604   Cond. No.                         140.\n",
       "==============================================================================\n",
       "\n",
       "Warnings:\n",
       "[1] Standard Errors assume that the covariance matrix of the errors is correctly specified.\n",
       "\"\"\""
      ]
     },
     "execution_count": 12,
     "metadata": {},
     "output_type": "execute_result"
    }
   ],
   "source": [
    "lm.summary()"
   ]
  },
  {
   "cell_type": "markdown",
   "metadata": {},
   "source": [
    "The most commonly used is the R-squared. High R-square means the model is good, low R-square means the model is bad."
   ]
  },
  {
   "cell_type": "code",
   "execution_count": 13,
   "metadata": {
    "collapsed": false
   },
   "outputs": [
    {
     "data": {
      "text/plain": [
       "array([ 164.38716857,   10.67424997])"
      ]
     },
     "execution_count": 13,
     "metadata": {},
     "output_type": "execute_result"
    }
   ],
   "source": [
    "lm.params"
   ]
  },
  {
   "cell_type": "code",
   "execution_count": 14,
   "metadata": {
    "collapsed": true
   },
   "outputs": [],
   "source": [
    "# file_id = 'chqUZHuY6cXYrRYkuE0uwXisGaYvr7durZHJhpLGycs'\n",
    "# request = drive_service.files().get_media(fileId=file_id)\n",
    "# fh = io.BytesIO()\n",
    "# downloader = MediaIoBaseDownload(fh, request)\n",
    "# done = False\n",
    "# while done is False:\n",
    "#     status, done = downloader.next_chunk()\n",
    "#     print \"Download %d%%.\" % int(status.progress() * 100)"
   ]
  }
 ],
 "metadata": {
  "kernelspec": {
   "display_name": "PUI2016_Python3",
   "language": "python",
   "name": "pui2016_python3"
  },
  "language_info": {
   "codemirror_mode": {
    "name": "ipython",
    "version": 3
   },
   "file_extension": ".py",
   "mimetype": "text/x-python",
   "name": "python",
   "nbconvert_exporter": "python",
   "pygments_lexer": "ipython3",
   "version": "3.5.4"
  }
 },
 "nbformat": 4,
 "nbformat_minor": 0
}
