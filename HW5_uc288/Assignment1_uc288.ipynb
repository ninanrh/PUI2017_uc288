{
 "cells": [
  {
   "cell_type": "code",
   "execution_count": 1,
   "metadata": {
    "collapsed": false
   },
   "outputs": [
    {
     "name": "stdout",
     "output_type": "stream",
     "text": [
      "Populating the interactive namespace from numpy and matplotlib\n"
     ]
    }
   ],
   "source": [
    "from __future__ import print_function\n",
    "import numpy as np\n",
    "import pandas as pd\n",
    "import matplotlib.pylab as pl\n",
    "import scipy as sp\n",
    "from scipy import stats\n",
    "\n",
    "%pylab inline"
   ]
  },
  {
   "cell_type": "code",
   "execution_count": 9,
   "metadata": {
    "collapsed": true
   },
   "outputs": [],
   "source": [
    "np.random.seed(999)"
   ]
  },
  {
   "cell_type": "code",
   "execution_count": 10,
   "metadata": {
    "collapsed": false
   },
   "outputs": [],
   "source": [
    "# decision about population\n",
    "mymean = 800.\n",
    "mystdev = 25.\n",
    "Nsamples = 150\n",
    "Nit = 1000\n",
    "\n",
    "myDmean = np.zeros(Nit)\n",
    "\n",
    "for i in range(Nit):\n",
    "    mydist = sp.stats.poisson.rvs(mu=mymean, size=Nsamples)\n",
    "    myDmean[i] = mydist.mean()"
   ]
  },
  {
   "cell_type": "markdown",
   "metadata": {},
   "source": [
    "$z = |{(\\mu_{pop})}$\n",
    "\n",
    "\n",
    "$mean of the population - mean of the sample | / (std / sqrt(N))$"
   ]
  },
  {
   "cell_type": "code",
   "execution_count": 11,
   "metadata": {
    "collapsed": false
   },
   "outputs": [
    {
     "data": {
      "text/plain": [
       "array([ 802.06666667,  795.62666667,  799.46      ,  800.01333333,\n",
       "        799.2       ,  796.85333333,  797.91333333,  799.56      ,\n",
       "        801.        ,  801.04      ,  801.82666667,  798.64      ,\n",
       "        799.62666667,  798.        ,  800.95333333,  798.06666667,\n",
       "        798.83333333,  797.36666667,  799.02      ,  800.20666667,\n",
       "        799.55333333,  798.89333333,  799.66      ,  802.09333333,\n",
       "        798.91333333,  796.06666667,  799.48      ,  801.26666667,\n",
       "        799.12      ,  797.92      ,  799.84      ,  794.56666667,\n",
       "        799.20666667,  801.14      ,  798.69333333,  801.44      ,\n",
       "        797.72      ,  800.57333333,  799.47333333,  797.72666667,\n",
       "        799.95333333,  801.31333333,  797.14666667,  798.64      ,\n",
       "        796.91333333,  799.09333333,  799.18      ,  796.94666667,\n",
       "        798.46666667,  798.27333333,  798.53333333,  799.10666667,\n",
       "        799.97333333,  803.27333333,  795.74      ,  800.64      ,\n",
       "        796.47333333,  800.31333333,  805.04      ,  796.70666667,\n",
       "        798.6       ,  803.2       ,  799.06      ,  803.30666667,\n",
       "        800.60666667,  800.4       ,  799.41333333,  800.58      ,\n",
       "        799.17333333,  801.09333333,  801.15333333,  800.14      ,\n",
       "        796.50666667,  802.95333333,  798.64666667,  801.75333333,\n",
       "        799.2       ,  799.12666667,  791.94666667,  794.22      ,\n",
       "        799.39333333,  800.46666667,  800.67333333,  802.92666667,\n",
       "        799.21333333,  799.74      ,  800.58      ,  801.42      ,\n",
       "        797.11333333,  799.84666667,  804.08666667,  802.13333333,\n",
       "        801.64666667,  799.91333333,  799.52      ,  801.11333333,\n",
       "        794.04666667,  802.13333333,  799.88      ,  801.72      ,\n",
       "        798.98      ,  802.63333333,  795.10666667,  802.24666667,\n",
       "        795.83333333,  801.84      ,  800.94666667,  802.11333333,\n",
       "        800.73333333,  799.52      ,  802.5       ,  798.60666667,\n",
       "        801.94      ,  799.30666667,  799.70666667,  802.88      ,\n",
       "        801.80666667,  803.38      ,  799.77333333,  798.43333333,\n",
       "        798.04      ,  802.69333333,  800.37333333,  800.36666667,\n",
       "        804.18      ,  802.29333333,  801.96      ,  797.34      ,\n",
       "        796.74      ,  796.78666667,  800.74      ,  797.20666667,\n",
       "        796.50666667,  802.63333333,  802.89333333,  798.98666667,\n",
       "        801.06666667,  799.44666667,  800.95333333,  804.02666667,\n",
       "        798.83333333,  797.88      ,  798.20666667,  797.05333333,\n",
       "        795.66666667,  800.15333333,  797.19333333,  802.38666667,\n",
       "        796.29333333,  797.30666667,  800.        ,  799.08      ,\n",
       "        804.19333333,  799.54      ,  802.85333333,  800.28      ,\n",
       "        796.5       ,  798.82666667,  798.75333333,  803.86666667,\n",
       "        800.58      ,  804.22      ,  802.42666667,  798.10666667,\n",
       "        798.37333333,  798.28      ,  803.51333333,  799.72      ,\n",
       "        795.84666667,  800.93333333,  800.92666667,  806.94      ,\n",
       "        799.33333333,  803.03333333,  799.68      ,  801.80666667,\n",
       "        800.39333333,  800.89333333,  805.84666667,  799.26666667,\n",
       "        797.9       ,  800.16666667,  802.01333333,  799.50666667,\n",
       "        799.96666667,  799.17333333,  804.78666667,  799.41333333,\n",
       "        798.38666667,  797.88      ,  800.04      ,  799.62      ,\n",
       "        802.23333333,  802.97333333,  800.30666667,  801.        ,\n",
       "        806.04666667,  798.35333333,  803.46      ,  799.56      ,\n",
       "        802.43333333,  801.17333333,  799.75333333,  799.4       ,\n",
       "        794.10666667,  800.2       ,  799.22666667,  796.88666667,\n",
       "        800.27333333,  799.90666667,  799.12666667,  801.21333333,\n",
       "        800.90666667,  803.78      ,  799.26      ,  799.43333333,\n",
       "        797.49333333,  800.42666667,  796.63333333,  800.        ,\n",
       "        800.73333333,  802.32      ,  799.18      ,  800.54666667,\n",
       "        799.19333333,  801.94666667,  797.30666667,  799.3       ,\n",
       "        800.25333333,  799.2       ,  801.40666667,  800.20666667,\n",
       "        798.78666667,  800.38666667,  800.92      ,  798.92666667,\n",
       "        797.86666667,  798.02      ,  801.19333333,  802.46      ,\n",
       "        801.30666667,  797.94      ,  800.48      ,  797.52      ,\n",
       "        800.68666667,  797.52      ,  801.34666667,  798.32666667,\n",
       "        800.62666667,  800.96      ,  799.16      ,  801.12      ,\n",
       "        799.36666667,  800.92      ,  799.05333333,  797.39333333,\n",
       "        799.75333333,  800.60666667,  799.81333333,  808.01333333,\n",
       "        799.28666667,  801.07333333,  798.41333333,  799.22666667,\n",
       "        802.28666667,  798.66      ,  802.30666667,  799.13333333,\n",
       "        799.28666667,  799.35333333,  799.78666667,  802.09333333,\n",
       "        802.22      ,  798.16      ,  799.22      ,  801.81333333,\n",
       "        805.49333333,  797.9       ,  799.04666667,  803.40666667,\n",
       "        801.96666667,  799.52      ,  802.        ,  799.73333333,\n",
       "        801.04666667,  800.6       ,  796.71333333,  800.01333333,\n",
       "        800.5       ,  802.26666667,  802.80666667,  799.9       ,\n",
       "        799.80666667,  801.99333333,  802.06666667,  799.02      ,\n",
       "        803.50666667,  797.27333333,  802.62666667,  797.36666667,\n",
       "        796.59333333,  802.64      ,  800.33333333,  800.61333333,\n",
       "        800.43333333,  797.95333333,  803.48      ,  797.84666667,\n",
       "        799.01333333,  798.48      ,  798.36      ,  800.08666667,\n",
       "        801.56666667,  801.15333333,  803.54      ,  799.44666667,\n",
       "        799.13333333,  801.99333333,  797.97333333,  799.53333333,\n",
       "        797.40666667,  798.65333333,  801.98666667,  801.72666667,\n",
       "        800.48666667,  800.52      ,  799.79333333,  797.76666667,\n",
       "        797.09333333,  801.93333333,  801.92      ,  800.79333333,\n",
       "        799.79333333,  798.89333333,  802.        ,  796.9       ,\n",
       "        798.78      ,  800.24666667,  804.98      ,  799.66      ,\n",
       "        799.54666667,  802.06      ,  800.42666667,  804.12666667,\n",
       "        794.30666667,  797.57333333,  796.76      ,  801.73333333,\n",
       "        802.57333333,  804.44      ,  798.56      ,  797.50666667,\n",
       "        799.11333333,  800.42      ,  802.68666667,  803.51333333,\n",
       "        803.02      ,  798.14666667,  801.87333333,  799.61333333,\n",
       "        798.76666667,  800.64666667,  799.10666667,  802.18      ,\n",
       "        800.78      ,  799.8       ,  796.73333333,  802.03333333,\n",
       "        799.98      ,  797.52666667,  800.48      ,  799.04666667,\n",
       "        801.24      ,  802.60666667,  799.24666667,  801.50666667,\n",
       "        798.19333333,  800.78666667,  801.68      ,  802.49333333,\n",
       "        799.86666667,  796.40666667,  797.08      ,  801.67333333,\n",
       "        798.99333333,  799.3       ,  800.85333333,  799.72      ,\n",
       "        801.56      ,  798.93333333,  798.83333333,  799.40666667,\n",
       "        800.86666667,  798.38      ,  797.99333333,  800.66      ,\n",
       "        796.07333333,  796.56666667,  802.14      ,  796.74666667,\n",
       "        800.57333333,  797.04666667,  796.96      ,  797.47333333,\n",
       "        802.84      ,  797.80666667,  799.8       ,  800.32      ,\n",
       "        800.66      ,  800.54666667,  803.15333333,  798.90666667,\n",
       "        800.82666667,  800.54      ,  799.45333333,  799.58666667,\n",
       "        802.58666667,  799.13333333,  799.78666667,  799.01333333,\n",
       "        794.64666667,  797.88666667,  799.84666667,  800.54      ,\n",
       "        801.02666667,  800.46666667,  801.82      ,  797.88      ,\n",
       "        798.61333333,  798.25333333,  800.63333333,  800.39333333,\n",
       "        796.89333333,  795.6       ,  803.62666667,  798.85333333,\n",
       "        798.34      ,  799.67333333,  795.95333333,  799.88666667,\n",
       "        796.82      ,  799.8       ,  799.56666667,  798.94      ,\n",
       "        799.8       ,  798.68      ,  797.3       ,  803.58666667,\n",
       "        800.84666667,  800.98666667,  800.02666667,  799.1       ,\n",
       "        803.21333333,  804.22      ,  800.55333333,  799.3       ,\n",
       "        804.19333333,  797.51333333,  800.78666667,  803.71333333,\n",
       "        799.2       ,  796.37333333,  797.96      ,  800.70666667,\n",
       "        802.61333333,  801.24666667,  802.25333333,  796.4       ,\n",
       "        801.9       ,  798.96      ,  796.44      ,  796.86      ,\n",
       "        797.90666667,  798.92666667,  801.08666667,  800.85333333,\n",
       "        798.29333333,  798.50666667,  802.18      ,  803.34666667,\n",
       "        802.64666667,  796.83333333,  798.32666667,  802.80666667,\n",
       "        801.95333333,  801.76      ,  797.19333333,  802.2       ,\n",
       "        803.67333333,  799.44666667,  797.87333333,  798.30666667,\n",
       "        799.5       ,  797.61333333,  799.76      ,  800.68      ,\n",
       "        801.04666667,  798.96666667,  793.04666667,  793.56666667,\n",
       "        797.67333333,  796.82666667,  800.24      ,  801.66666667,\n",
       "        800.08666667,  798.98      ,  802.18666667,  798.49333333,\n",
       "        799.30666667,  803.00666667,  799.59333333,  800.50666667,\n",
       "        800.20666667,  801.08666667,  797.63333333,  800.18666667,\n",
       "        796.07333333,  798.74      ,  799.62      ,  802.63333333,\n",
       "        797.39333333,  801.44666667,  801.55333333,  799.32666667,\n",
       "        802.49333333,  798.94      ,  798.01333333,  805.41333333,\n",
       "        797.99333333,  803.13333333,  798.81333333,  800.58      ,\n",
       "        799.52666667,  800.62      ,  798.12      ,  801.29333333,\n",
       "        800.18      ,  798.62666667,  803.16      ,  796.43333333,\n",
       "        799.68666667,  802.21333333,  801.51333333,  800.15333333,\n",
       "        800.87333333,  799.42      ,  800.59333333,  801.70666667,\n",
       "        795.98666667,  798.94      ,  800.56666667,  804.07333333,\n",
       "        801.48666667,  799.85333333,  798.13333333,  797.44666667,\n",
       "        801.3       ,  798.36666667,  799.39333333,  799.02666667,\n",
       "        797.33333333,  802.14666667,  797.75333333,  799.85333333,\n",
       "        803.14      ,  799.64666667,  796.88      ,  801.48666667,\n",
       "        800.12666667,  801.28666667,  793.96666667,  800.99333333,\n",
       "        795.28666667,  799.04      ,  795.75333333,  804.8       ,\n",
       "        800.38666667,  802.92      ,  800.14666667,  798.34      ,\n",
       "        801.07333333,  801.06666667,  799.11333333,  800.42666667,\n",
       "        802.4       ,  804.05333333,  798.12666667,  796.79333333,\n",
       "        799.77333333,  800.50666667,  800.58666667,  798.77333333,\n",
       "        797.74666667,  797.41333333,  803.16666667,  804.23333333,\n",
       "        800.88      ,  797.86666667,  797.64      ,  800.29333333,\n",
       "        802.29333333,  799.85333333,  803.3       ,  801.88      ,\n",
       "        802.52666667,  802.37333333,  800.69333333,  800.82      ,\n",
       "        800.63333333,  802.97333333,  798.1       ,  798.02      ,\n",
       "        799.14      ,  801.01333333,  800.75333333,  801.45333333,\n",
       "        801.50666667,  799.20666667,  799.79333333,  804.03333333,\n",
       "        799.10666667,  800.18666667,  801.53333333,  797.98      ,\n",
       "        802.84      ,  799.06666667,  800.62666667,  801.03333333,\n",
       "        805.07333333,  801.26666667,  801.73333333,  797.03333333,\n",
       "        798.91333333,  801.75333333,  797.02      ,  800.19333333,\n",
       "        796.98666667,  797.16      ,  797.53333333,  802.3       ,\n",
       "        797.94      ,  798.24666667,  804.36666667,  800.7       ,\n",
       "        802.95333333,  805.26      ,  800.35333333,  799.06666667,\n",
       "        802.6       ,  800.21333333,  798.04666667,  801.75333333,\n",
       "        803.25333333,  802.5       ,  799.76      ,  799.34666667,\n",
       "        798.51333333,  799.78      ,  801.90666667,  802.15333333,\n",
       "        799.41333333,  797.59333333,  801.05333333,  797.09333333,\n",
       "        800.03333333,  799.98      ,  797.64666667,  795.06      ,\n",
       "        796.33333333,  801.06      ,  799.36666667,  799.52666667,\n",
       "        797.31333333,  797.1       ,  797.98666667,  799.32666667,\n",
       "        804.46666667,  797.8       ,  798.36      ,  799.46      ,\n",
       "        803.68666667,  794.48      ,  801.97333333,  793.84666667,\n",
       "        799.34666667,  801.9       ,  798.13333333,  802.26666667,\n",
       "        802.16      ,  803.26666667,  796.49333333,  802.87333333,\n",
       "        801.56666667,  798.52666667,  800.06      ,  796.58666667,\n",
       "        793.99333333,  802.28      ,  802.92      ,  800.86666667,\n",
       "        802.33333333,  800.42      ,  800.83333333,  801.47333333,\n",
       "        797.76666667,  799.96      ,  796.62      ,  797.92      ,\n",
       "        801.97333333,  798.97333333,  796.28666667,  800.54      ,\n",
       "        796.84666667,  800.4       ,  799.07333333,  798.28      ,\n",
       "        798.24666667,  800.23333333,  797.03333333,  799.88666667,\n",
       "        798.74      ,  798.6       ,  799.62666667,  798.63333333,\n",
       "        798.84666667,  795.88666667,  797.94      ,  797.88666667,\n",
       "        798.52666667,  803.74      ,  800.18666667,  797.72666667,\n",
       "        800.6       ,  798.12666667,  801.83333333,  798.68666667,\n",
       "        796.98666667,  798.76666667,  803.26666667,  801.1       ,\n",
       "        803.08      ,  796.84666667,  801.44666667,  797.52      ,\n",
       "        799.64666667,  805.27333333,  800.57333333,  798.07333333,\n",
       "        797.91333333,  801.19333333,  799.70666667,  803.65333333,\n",
       "        797.17333333,  803.25333333,  799.79333333,  802.19333333,\n",
       "        800.32666667,  801.51333333,  805.16      ,  798.21333333,\n",
       "        798.82      ,  797.81333333,  800.96      ,  802.30666667,\n",
       "        801.97333333,  796.46666667,  801.46666667,  798.54      ,\n",
       "        802.29333333,  802.82      ,  798.84      ,  796.94666667,\n",
       "        803.26666667,  797.39333333,  802.1       ,  798.10666667,\n",
       "        794.14      ,  800.96666667,  802.99333333,  800.39333333,\n",
       "        801.10666667,  795.28666667,  798.96      ,  798.93333333,\n",
       "        799.48666667,  801.91333333,  798.58      ,  797.93333333,\n",
       "        798.33333333,  802.46      ,  802.24666667,  799.24      ,\n",
       "        801.36666667,  797.92      ,  799.04      ,  798.36666667,\n",
       "        799.14666667,  800.70666667,  797.96666667,  797.8       ,\n",
       "        801.38666667,  801.07333333,  799.78      ,  799.92666667,\n",
       "        798.72666667,  802.57333333,  803.38666667,  798.65333333,\n",
       "        800.54666667,  798.72      ,  800.54      ,  799.93333333,\n",
       "        800.73333333,  803.46666667,  804.10666667,  800.34      ,\n",
       "        800.66666667,  800.50666667,  798.16666667,  798.32      ,\n",
       "        801.82      ,  799.49333333,  798.16      ,  796.46666667,\n",
       "        796.94666667,  800.83333333,  795.72666667,  804.57333333,\n",
       "        796.2       ,  793.93333333,  798.35333333,  799.87333333,\n",
       "        804.33333333,  805.08      ,  800.96666667,  797.55333333,\n",
       "        799.88666667,  799.82666667,  802.01333333,  800.26      ,\n",
       "        800.04      ,  799.82666667,  799.20666667,  805.02666667,\n",
       "        797.11333333,  803.64666667,  798.64666667,  800.81333333,\n",
       "        799.12      ,  801.48666667,  799.73333333,  798.79333333,\n",
       "        801.68      ,  803.15333333,  799.09333333,  802.04666667,\n",
       "        796.98      ,  798.9       ,  797.26      ,  796.48      ,\n",
       "        796.12666667,  797.44666667,  797.27333333,  800.62      ,\n",
       "        804.58      ,  800.02      ,  802.99333333,  801.78      ,\n",
       "        804.99333333,  798.09333333,  801.15333333,  801.38666667,\n",
       "        803.54      ,  798.82666667,  800.96      ,  800.08      ,\n",
       "        803.62      ,  801.        ,  801.56      ,  801.65333333,\n",
       "        797.80666667,  799.62666667,  800.20666667,  801.04666667,\n",
       "        799.03333333,  803.94666667,  800.77333333,  800.18      ,\n",
       "        803.22666667,  804.26      ,  797.75333333,  798.98666667,\n",
       "        802.98666667,  798.40666667,  795.69333333,  799.50666667,\n",
       "        802.39333333,  797.18      ,  799.72      ,  802.11333333,\n",
       "        801.86666667,  800.96      ,  798.41333333,  799.20666667,\n",
       "        801.88666667,  801.59333333,  800.17333333,  800.62666667,\n",
       "        800.93333333,  796.32666667,  793.60666667,  800.48      ,\n",
       "        803.22      ,  798.32      ,  803.22666667,  796.21333333,\n",
       "        800.90666667,  796.53333333,  800.17333333,  795.53333333,\n",
       "        797.11333333,  801.92666667,  801.42      ,  797.4       ,\n",
       "        801.46666667,  800.24      ,  800.09333333,  800.83333333,\n",
       "        797.62666667,  804.10666667,  803.07333333,  804.60666667,\n",
       "        799.5       ,  798.34666667,  799.10666667,  798.8       ,\n",
       "        793.74      ,  798.36      ,  799.24      ,  801.35333333,\n",
       "        800.19333333,  799.97333333,  801.16      ,  797.52666667,\n",
       "        799.43333333,  800.51333333,  802.06      ,  798.34      ,\n",
       "        800.86666667,  800.78      ,  797.18666667,  798.38666667,\n",
       "        797.7       ,  801.03333333,  795.10666667,  800.65333333,\n",
       "        799.87333333,  797.94666667,  796.93333333,  798.62      ,\n",
       "        800.74666667,  796.12666667,  794.95333333,  798.92      ,\n",
       "        801.76      ,  800.33333333,  799.54      ,  798.68666667,\n",
       "        795.98666667,  798.24666667,  797.89333333,  806.22      ,\n",
       "        800.88      ,  802.18      ,  800.24666667,  800.45333333,\n",
       "        799.77333333,  801.80666667,  802.75333333,  802.49333333,\n",
       "        798.97333333,  801.38666667,  799.63333333,  799.14      ,\n",
       "        799.26666667,  797.11333333,  798.68666667,  796.73333333,\n",
       "        798.88666667,  797.8       ,  799.92      ,  799.04      ,\n",
       "        802.78      ,  799.81333333,  808.22      ,  798.88666667,\n",
       "        800.42      ,  800.6       ,  797.26666667,  796.35333333])"
      ]
     },
     "execution_count": 11,
     "metadata": {},
     "output_type": "execute_result"
    }
   ],
   "source": [
    "# distribution of the mean values\n",
    "myDmean"
   ]
  },
  {
   "cell_type": "code",
   "execution_count": 12,
   "metadata": {
    "collapsed": false
   },
   "outputs": [
    {
     "data": {
      "text/plain": [
       "(array([   3.,   18.,   58.,  181.,  275.,  241.,  159.,   48.,   14.,    3.]),\n",
       " array([ 791.94666667,  793.574     ,  795.20133333,  796.82866667,\n",
       "         798.456     ,  800.08333333,  801.71066667,  803.338     ,\n",
       "         804.96533333,  806.59266667,  808.22      ]),\n",
       " <a list of 10 Patch objects>)"
      ]
     },
     "execution_count": 12,
     "metadata": {},
     "output_type": "execute_result"
    },
    {
     "data": {
      "image/png": "[encoded data removed]",
      "text/plain": [
       "<matplotlib.figure.Figure at 0x7f52aa872320>"
      ]
     },
     "metadata": {},
     "output_type": "display_data"
    }
   ],
   "source": [
    "pl.hist(myDmean)"
   ]
  },
  {
   "cell_type": "code",
   "execution_count": 13,
   "metadata": {
    "collapsed": true
   },
   "outputs": [],
   "source": [
    "zs = (mymean - myDmean) * np.sqrt(Nsamples) / mystdev"
   ]
  },
  {
   "cell_type": "code",
   "execution_count": 14,
   "metadata": {
    "collapsed": false
   },
   "outputs": [
    {
     "data": {
      "text/plain": [
       "(array([   3.,   14.,   48.,  159.,  241.,  275.,  181.,   58.,   18.,    3.]),\n",
       " array([-4.02696114, -3.22973388, -2.43250661, -1.63527935, -0.83805209,\n",
       "        -0.04082483,  0.75640243,  1.55362969,  2.35085696,  3.14808422,\n",
       "         3.94531148]),\n",
       " <a list of 10 Patch objects>)"
      ]
     },
     "execution_count": 14,
     "metadata": {},
     "output_type": "execute_result"
    },
    {
     "data": {
      "image/png": "[encoded data removed]",
      "text/plain": [
       "<matplotlib.figure.Figure at 0x7f52aa82d278>"
      ]
     },
     "metadata": {},
     "output_type": "display_data"
    }
   ],
   "source": [
    "pl.hist(zs)"
   ]
  },
  {
   "cell_type": "markdown",
   "metadata": {},
   "source": [
    "For the z-test, if we were doing a one-tail test, we would get the absolute value of the difference of the means.\n",
    "For a two-tailed test, we don't need the absolute value because we want it to look like a normal distribution."
   ]
  },
  {
   "cell_type": "code",
   "execution_count": 15,
   "metadata": {
    "collapsed": false
   },
   "outputs": [
    {
     "data": {
      "text/plain": [
       "KstestResult(statistic=0.04134375912896604, pvalue=0.063699464588123478)"
      ]
     },
     "execution_count": 15,
     "metadata": {},
     "output_type": "execute_result"
    }
   ],
   "source": [
    "sp.stats.kstest(zs, 'norm')"
   ]
  },
  {
   "cell_type": "code",
   "execution_count": null,
   "metadata": {
    "collapsed": true
   },
   "outputs": [],
   "source": []
  }
 ],
 "metadata": {
  "kernelspec": {
   "display_name": "PUI2016_Python3",
   "language": "python",
   "name": "pui2016_python3"
  },
  "language_info": {
   "codemirror_mode": {
    "name": "ipython",
    "version": 3
   },
   "file_extension": ".py",
   "mimetype": "text/x-python",
   "name": "python",
   "nbconvert_exporter": "python",
   "pygments_lexer": "ipython3",
   "version": "3.5.4"
  }
 },
 "nbformat": 4,
 "nbformat_minor": 0
}
