{
 "cells": [
  {
   "cell_type": "markdown",
   "metadata": {},
   "source": [
    "# Assignment 1: Test the z-test"
   ]
  },
  {
   "cell_type": "markdown",
   "metadata": {},
   "source": [
    "**Usual imports**"
   ]
  },
  {
   "cell_type": "code",
   "execution_count": 1,
   "metadata": {
    "collapsed": false
   },
   "outputs": [
    {
     "name": "stdout",
     "output_type": "stream",
     "text": [
      "Populating the interactive namespace from numpy and matplotlib\n"
     ]
    }
   ],
   "source": [
    "from __future__ import print_function\n",
    "import numpy as np\n",
    "import pandas as pd\n",
    "import matplotlib.pylab as pl\n",
    "import scipy as sp\n",
    "from scipy import stats\n",
    "\n",
    "%pylab inline"
   ]
  },
  {
   "cell_type": "markdown",
   "metadata": {},
   "source": [
    "**Generating a seed for reproducibility**"
   ]
  },
  {
   "cell_type": "code",
   "execution_count": 2,
   "metadata": {
    "collapsed": true
   },
   "outputs": [],
   "source": [
    "np.random.seed(999)"
   ]
  },
  {
   "cell_type": "markdown",
   "metadata": {},
   "source": [
    "## Poisson Distrubution\n",
    "\n",
    "Mean: $\\mu = \\lambda$\n",
    "\n",
    "Variance: $\\sigma^2 = \\lambda$\n",
    "\n",
    "Standard deviation: $\\sigma = \\sqrt{\\lambda}$"
   ]
  },
  {
   "cell_type": "code",
   "execution_count": 3,
   "metadata": {
    "collapsed": false
   },
   "outputs": [],
   "source": [
    "# decision about population\n",
    "mymean = 800.\n",
    "mystdev = np.sqrt(mymean)\n",
    "Nsamples = 200\n",
    "Nit = 1000\n",
    "\n",
    "myDmean = np.zeros(Nit)\n",
    "\n",
    "for i in range(Nit):\n",
    "    mydist = np.random.poisson(lam=mymean, size=Nsamples)\n",
    "    myDmean[i] = mydist.mean()"
   ]
  },
  {
   "cell_type": "markdown",
   "metadata": {},
   "source": [
    "# $z = \\frac{\\mu_{pop} - \\mu_{sample}}{\\frac{\\sigma}{\\sqrt{N}}}$"
   ]
  },
  {
   "cell_type": "code",
   "execution_count": 4,
   "metadata": {
    "collapsed": false
   },
   "outputs": [
    {
     "data": {
      "text/plain": [
       "Text(0,0.5,'Frequency')"
      ]
     },
     "execution_count": 4,
     "metadata": {},
     "output_type": "execute_result"
    },
    {
     "data": {
      "image/png": "[encoded data removed]",
      "text/plain": [
       "<matplotlib.figure.Figure at 0x7fc3abe8ff28>"
      ]
     },
     "metadata": {},
     "output_type": "display_data"
    }
   ],
   "source": [
    "fig = pl.figure(figsize=(10,5))\n",
    "ax = fig.add_subplot(111)\n",
    "ax.hist(myDmean, color='lightcoral', alpha=0.5)\n",
    "ax.set_title(\"Distribution of means of 1000 distributions with 200 samples each\", fontsize=20)\n",
    "ax.set_xlabel(\"$\\mu$\", fontsize=15)\n",
    "ax.set_ylabel(\"Frequency\", fontsize=15)"
   ]
  },
  {
   "cell_type": "markdown",
   "metadata": {},
   "source": [
    "### Figure 1. Distribution of the means\n",
    "This shows the distribution of the means of the 1000 Poisson distributions with 200 samples each. As you can see, it looks very similar to a Gaussian distribution, aside from it being centered on the given mean instead of 0."
   ]
  },
  {
   "cell_type": "code",
   "execution_count": 5,
   "metadata": {
    "collapsed": true
   },
   "outputs": [],
   "source": [
    "zs = (mymean - myDmean) * np.sqrt(Nsamples) / np.sqrt(mymean)"
   ]
  },
  {
   "cell_type": "code",
   "execution_count": 6,
   "metadata": {
    "collapsed": false
   },
   "outputs": [
    {
     "data": {
      "text/plain": [
       "Text(0,0.5,'frequency')"
      ]
     },
     "execution_count": 6,
     "metadata": {},
     "output_type": "execute_result"
    },
    {
     "data": {
      "image/png": "[encoded data removed]",
      "text/plain": [
       "<matplotlib.figure.Figure at 0x7fc3a9a80128>"
      ]
     },
     "metadata": {},
     "output_type": "display_data"
    }
   ],
   "source": [
    "fig = pl.figure(figsize=(10,5))\n",
    "ax = fig.add_subplot(111)\n",
    "ax.hist(zs, color='lightcoral', alpha=0.5)\n",
    "ax.set_title(\"Histogram of z's\", fontsize=20)\n",
    "ax.set_xlabel(\"z-statistics\", fontsize=15)\n",
    "ax.set_ylabel(\"frequency\", fontsize=15)"
   ]
  },
  {
   "cell_type": "markdown",
   "metadata": {},
   "source": [
    "### Figure 2. Distribution of the z-statistics\n",
    "This figure of the distribution of the z-statistics of the Poisson distribution also looks like a Gaussian distribution with it centered at 0."
   ]
  },
  {
   "cell_type": "markdown",
   "metadata": {},
   "source": [
    "## Null Hypothesis: The distribution of the z-statistics is consistent with a Gaussian distribution ($N(0,1)$)\n",
    "\n",
    "## $\\alpha = 0.05$"
   ]
  },
  {
   "cell_type": "code",
   "execution_count": 7,
   "metadata": {
    "collapsed": false
   },
   "outputs": [
    {
     "data": {
      "text/plain": [
       "KstestResult(statistic=0.023463031122761158, pvalue=0.64070379211737916)"
      ]
     },
     "execution_count": 7,
     "metadata": {},
     "output_type": "execute_result"
    }
   ],
   "source": [
    "ks = sp.stats.kstest(zs, 'norm')\n",
    "ks"
   ]
  },
  {
   "cell_type": "markdown",
   "metadata": {},
   "source": [
    "Since the p-value of the KS Test result is 0.64 which is greater than our significance level 0.05, we cannot reject the null hypothesis that the distribution of the z-statistics of the Poisson distribution is consistent with a Gaussian distribution.\n",
    "\n",
    "**Meaning the distribution of the z-statistics comes from a Gaussian distribution.**"
   ]
  },
  {
   "cell_type": "code",
   "execution_count": 8,
   "metadata": {
    "collapsed": false
   },
   "outputs": [
    {
     "data": {
      "text/plain": [
       "AndersonResult(statistic=0.19403104879404509, critical_values=array([ 0.574,  0.653,  0.784,  0.914,  1.088]), significance_level=array([ 15. ,  10. ,   5. ,   2.5,   1. ]))"
      ]
     },
     "execution_count": 8,
     "metadata": {},
     "output_type": "execute_result"
    }
   ],
   "source": [
    "ad = sp.stats.anderson(zs, 'norm')\n",
    "ad"
   ]
  },
  {
   "cell_type": "markdown",
   "metadata": {},
   "source": [
    "Based on the scipy.stats.anderson documentation\n",
    "> If A2 is larger than these critical values then for the corresponding significance level, the null hypothesis that the data come from the chosen distribution can be rejected.\n",
    "\n",
    "In this case, the critical value for our significance level is 0.784.\n",
    "\n",
    "Our statistic is at 0.194 which is less than 0.784, which means we **CANNOT** reject the null hypothesis that the data comes from a normal distribution.\n",
    "\n",
    "**Meaning the distribution of the z-statistics comes from a Gaussian distribution.**"
   ]
  },
  {
   "cell_type": "markdown",
   "metadata": {},
   "source": [
    "## Binomial distribution\n",
    "\n",
    "Mean: $\\mu = np$\n",
    "\n",
    "Variance: $\\sigma^2 = np(1-p)$\n",
    "\n",
    "Standard deviation: $\\sigma = \\sqrt{np(1-p)}$"
   ]
  },
  {
   "cell_type": "code",
   "execution_count": 9,
   "metadata": {
    "collapsed": true
   },
   "outputs": [],
   "source": [
    "np.random.seed(999)"
   ]
  },
  {
   "cell_type": "code",
   "execution_count": 10,
   "metadata": {
    "collapsed": false
   },
   "outputs": [],
   "source": [
    "p = 0.5\n",
    "n = mymean/p\n",
    "mystdev = np.sqrt(n*p*(1-p))\n",
    "\n",
    "myBiMean = np.zeros(Nit)\n",
    "\n",
    "for i in range(Nit):\n",
    "    myBiDist = np.random.binomial(n, p, size=Nsamples)\n",
    "    myBiMean[i] = myBiDist.mean()"
   ]
  },
  {
   "cell_type": "code",
   "execution_count": 11,
   "metadata": {
    "collapsed": false
   },
   "outputs": [
    {
     "data": {
      "text/plain": [
       "Text(0,0.5,'Frequency')"
      ]
     },
     "execution_count": 11,
     "metadata": {},
     "output_type": "execute_result"
    },
    {
     "data": {
      "image/png": "[encoded data removed]",
      "text/plain": [
       "<matplotlib.figure.Figure at 0x7fc3a961f358>"
      ]
     },
     "metadata": {},
     "output_type": "display_data"
    }
   ],
   "source": [
    "fig = pl.figure(figsize=(10,5))\n",
    "ax = fig.add_subplot(111)\n",
    "ax.hist(myBiMean, color='seagreen', alpha=0.5)\n",
    "ax.set_title(\"Distribution of means of 1000 distributions with 200 samples each\", fontsize=20)\n",
    "ax.set_xlabel(\"$\\mu$\", fontsize=15)\n",
    "ax.set_ylabel(\"Frequency\", fontsize=15)"
   ]
  },
  {
   "cell_type": "markdown",
   "metadata": {},
   "source": [
    "### Figure 3. Distribution of means of Binomial Distribution\n",
    "This is the distribution of the means of the 1000 200-sample Binomial distrubutions and as you can see it looks quite similar to a normal distribution except that it is not centered at 0."
   ]
  },
  {
   "cell_type": "code",
   "execution_count": 12,
   "metadata": {
    "collapsed": true
   },
   "outputs": [],
   "source": [
    "zBi = (mymean - myBiMean) * np.sqrt(Nsamples) / mystdev"
   ]
  },
  {
   "cell_type": "code",
   "execution_count": 13,
   "metadata": {
    "collapsed": false
   },
   "outputs": [
    {
     "data": {
      "text/plain": [
       "Text(0,0.5,'frequency')"
      ]
     },
     "execution_count": 13,
     "metadata": {},
     "output_type": "execute_result"
    },
    {
     "data": {
      "image/png": "[encoded data removed]",
      "text/plain": [
       "<matplotlib.figure.Figure at 0x7fc3a957e3c8>"
      ]
     },
     "metadata": {},
     "output_type": "display_data"
    }
   ],
   "source": [
    "fig = pl.figure(figsize=(10,5))\n",
    "ax = fig.add_subplot(111)\n",
    "ax.hist(zBi, color='seagreen', alpha=0.5)\n",
    "ax.set_title(\"Histogram of z's\", fontsize=20)\n",
    "ax.set_xlabel(\"z-statistics\", fontsize=15)\n",
    "ax.set_ylabel(\"frequency\", fontsize=15)"
   ]
  },
  {
   "cell_type": "markdown",
   "metadata": {},
   "source": [
    "### Figure 4. Distribution of z-statistics of the Binomial distribution\n",
    "The distribution of the z-statistics of the binomial distribution also looks similar to a normal distribution with mean 0 and standard deviation of 1."
   ]
  },
  {
   "cell_type": "code",
   "execution_count": 14,
   "metadata": {
    "collapsed": false
   },
   "outputs": [
    {
     "data": {
      "text/plain": [
       "KstestResult(statistic=0.024898199307421431, pvalue=0.56485436796000832)"
      ]
     },
     "execution_count": 14,
     "metadata": {},
     "output_type": "execute_result"
    }
   ],
   "source": [
    "ksBi = sp.stats.kstest(zBi, 'norm')\n",
    "ksBi"
   ]
  },
  {
   "cell_type": "markdown",
   "metadata": {},
   "source": [
    "Working with the same null hypothesis from above, we **CANNOT REJECT** the null hypothesis because the p-value of the KS test is 0.56 and that is higher than our $\\alpha$ of 0.05. \n",
    "\n",
    "**Meaning the distribution of the z-statistics of the binomial distributions with a high mean (in this case, 800) can be said to come from a normal/Gaussian distribution.**"
   ]
  },
  {
   "cell_type": "code",
   "execution_count": 15,
   "metadata": {
    "collapsed": false,
    "scrolled": true
   },
   "outputs": [
    {
     "data": {
      "text/plain": [
       "AndersonResult(statistic=0.53226648373606622, critical_values=array([ 0.574,  0.653,  0.784,  0.914,  1.088]), significance_level=array([ 15. ,  10. ,   5. ,   2.5,   1. ]))"
      ]
     },
     "execution_count": 15,
     "metadata": {},
     "output_type": "execute_result"
    }
   ],
   "source": [
    "adBi = sp.stats.anderson(zBi, 'norm')\n",
    "adBi"
   ]
  },
  {
   "cell_type": "markdown",
   "metadata": {},
   "source": [
    "Similarly, in this Anderson-Darling test, the statistic returned is 0.532 which is lower than the critical value for our $\\alpha$ of 5%, which is at 0.784. Based on this, we also **CANNOT REJECT** the null hypothesis.\n",
    "\n",
    "**Meaning the distribution of the z-statistics of the binomial distributions with a high mean (in this case, 800) can be said to come from a normal/Gaussian distribution.**"
   ]
  }
 ],
 "metadata": {
  "kernelspec": {
   "display_name": "PUI2016_Python3",
   "language": "python",
   "name": "pui2016_python3"
  },
  "language_info": {
   "codemirror_mode": {
    "name": "ipython",
    "version": 3
   },
   "file_extension": ".py",
   "mimetype": "text/x-python",
   "name": "python",
   "nbconvert_exporter": "python",
   "pygments_lexer": "ipython3",
   "version": "3.5.4"
  }
 },
 "nbformat": 4,
 "nbformat_minor": 0
}
