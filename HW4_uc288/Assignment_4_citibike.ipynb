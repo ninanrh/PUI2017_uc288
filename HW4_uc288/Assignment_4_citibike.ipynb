{
 "cells": [
  {
   "cell_type": "code",
   "execution_count": 1,
   "metadata": {
    "collapsed": false
   },
   "outputs": [
    {
     "name": "stdout",
     "output_type": "stream",
     "text": [
      "Populating the interactive namespace from numpy and matplotlib\n"
     ]
    }
   ],
   "source": [
    "import pylab as pl\n",
    "import pandas as pd\n",
    "import numpy as np\n",
    "import scipy.stats\n",
    "\n",
    "#imports downloader\n",
    "from getCitiBikeCSV import getCitiBikeCSV\n",
    "from __future__ import print_function\n",
    "from IPython.display import Image\n",
    "\n",
    "%pylab inline\n",
    "\n",
    "import os"
   ]
  },
  {
   "cell_type": "code",
   "execution_count": 2,
   "metadata": {
    "collapsed": false
   },
   "outputs": [
    {
     "name": "stdout",
     "output_type": "stream",
     "text": [
      "/home/cusp/uc288/PUIdata\n"
     ]
    }
   ],
   "source": [
    "print(os.getenv(\"PUIDATA\"))"
   ]
  },
  {
   "cell_type": "markdown",
   "metadata": {},
   "source": [
    "### Reading the data\n",
    "As requested, we need to read at least 2 months worth of data.\n",
    "\n",
    "Reusing the getCitiBikeCSV function created by Professor Bianco, which does the following:\n",
    "1. Checks if the file is already in the PUIDATA folder\n",
    "2. If it's in the current directory, move it to the PUIDATA folder\n",
    "3. If it's not present, then it will continue to download the data from the CitiBike repository and move the ZIP file into PUIDATA.\n",
    "4. After downloading the ZIP file, it will be unzipped into the same location.\n",
    "5. There's a special handling for 2014 data because of the difference in naming convention of the files."
   ]
  },
  {
   "cell_type": "code",
   "execution_count": 3,
   "metadata": {
    "collapsed": false
   },
   "outputs": [
    {
     "name": "stdout",
     "output_type": "stream",
     "text": [
      "Downloading 201601\n",
      "file in place, you can continue\n"
     ]
    }
   ],
   "source": [
    "# colder month\n",
    "datestring = '201601'\n",
    "getCitiBikeCSV(datestring)"
   ]
  },
  {
   "cell_type": "code",
   "execution_count": 4,
   "metadata": {
    "collapsed": false
   },
   "outputs": [
    {
     "data": {
      "text/html": [
       "<div>\n",
       "<table border=\"1\" class=\"dataframe\">\n",
       "  <thead>\n",
       "    <tr style=\"text-align: right;\">\n",
       "      <th></th>\n",
       "      <th>tripduration</th>\n",
       "      <th>starttime</th>\n",
       "      <th>stoptime</th>\n",
       "      <th>start station id</th>\n",
       "      <th>start station name</th>\n",
       "      <th>start station latitude</th>\n",
       "      <th>start station longitude</th>\n",
       "      <th>end station id</th>\n",
       "      <th>end station name</th>\n",
       "      <th>end station latitude</th>\n",
       "      <th>end station longitude</th>\n",
       "      <th>bikeid</th>\n",
       "      <th>usertype</th>\n",
       "      <th>birth year</th>\n",
       "      <th>gender</th>\n",
       "    </tr>\n",
       "  </thead>\n",
       "  <tbody>\n",
       "    <tr>\n",
       "      <th>0</th>\n",
       "      <td>923</td>\n",
       "      <td>1/1/2016 00:00:41</td>\n",
       "      <td>1/1/2016 00:16:04</td>\n",
       "      <td>268</td>\n",
       "      <td>Howard St &amp; Centre St</td>\n",
       "      <td>40.719105</td>\n",
       "      <td>-73.999733</td>\n",
       "      <td>3002</td>\n",
       "      <td>South End Ave &amp; Liberty St</td>\n",
       "      <td>40.711512</td>\n",
       "      <td>-74.015756</td>\n",
       "      <td>22285</td>\n",
       "      <td>Subscriber</td>\n",
       "      <td>1958.0</td>\n",
       "      <td>1</td>\n",
       "    </tr>\n",
       "    <tr>\n",
       "      <th>1</th>\n",
       "      <td>379</td>\n",
       "      <td>1/1/2016 00:00:45</td>\n",
       "      <td>1/1/2016 00:07:04</td>\n",
       "      <td>476</td>\n",
       "      <td>E 31 St &amp; 3 Ave</td>\n",
       "      <td>40.743943</td>\n",
       "      <td>-73.979661</td>\n",
       "      <td>498</td>\n",
       "      <td>Broadway &amp; W 32 St</td>\n",
       "      <td>40.748549</td>\n",
       "      <td>-73.988084</td>\n",
       "      <td>17827</td>\n",
       "      <td>Subscriber</td>\n",
       "      <td>1969.0</td>\n",
       "      <td>1</td>\n",
       "    </tr>\n",
       "    <tr>\n",
       "      <th>2</th>\n",
       "      <td>589</td>\n",
       "      <td>1/1/2016 00:00:48</td>\n",
       "      <td>1/1/2016 00:10:37</td>\n",
       "      <td>489</td>\n",
       "      <td>10 Ave &amp; W 28 St</td>\n",
       "      <td>40.750664</td>\n",
       "      <td>-74.001768</td>\n",
       "      <td>284</td>\n",
       "      <td>Greenwich Ave &amp; 8 Ave</td>\n",
       "      <td>40.739017</td>\n",
       "      <td>-74.002638</td>\n",
       "      <td>21997</td>\n",
       "      <td>Subscriber</td>\n",
       "      <td>1982.0</td>\n",
       "      <td>2</td>\n",
       "    </tr>\n",
       "    <tr>\n",
       "      <th>3</th>\n",
       "      <td>889</td>\n",
       "      <td>1/1/2016 00:01:06</td>\n",
       "      <td>1/1/2016 00:15:56</td>\n",
       "      <td>268</td>\n",
       "      <td>Howard St &amp; Centre St</td>\n",
       "      <td>40.719105</td>\n",
       "      <td>-73.999733</td>\n",
       "      <td>3002</td>\n",
       "      <td>South End Ave &amp; Liberty St</td>\n",
       "      <td>40.711512</td>\n",
       "      <td>-74.015756</td>\n",
       "      <td>22794</td>\n",
       "      <td>Subscriber</td>\n",
       "      <td>1961.0</td>\n",
       "      <td>2</td>\n",
       "    </tr>\n",
       "    <tr>\n",
       "      <th>4</th>\n",
       "      <td>1480</td>\n",
       "      <td>1/1/2016 00:01:12</td>\n",
       "      <td>1/1/2016 00:25:52</td>\n",
       "      <td>2006</td>\n",
       "      <td>Central Park S &amp; 6 Ave</td>\n",
       "      <td>40.765909</td>\n",
       "      <td>-73.976342</td>\n",
       "      <td>2006</td>\n",
       "      <td>Central Park S &amp; 6 Ave</td>\n",
       "      <td>40.765909</td>\n",
       "      <td>-73.976342</td>\n",
       "      <td>14562</td>\n",
       "      <td>Subscriber</td>\n",
       "      <td>1952.0</td>\n",
       "      <td>1</td>\n",
       "    </tr>\n",
       "  </tbody>\n",
       "</table>\n",
       "</div>"
      ],
      "text/plain": [
       "   tripduration          starttime           stoptime  start station id  \\\n",
       "0           923  1/1/2016 00:00:41  1/1/2016 00:16:04               268   \n",
       "1           379  1/1/2016 00:00:45  1/1/2016 00:07:04               476   \n",
       "2           589  1/1/2016 00:00:48  1/1/2016 00:10:37               489   \n",
       "3           889  1/1/2016 00:01:06  1/1/2016 00:15:56               268   \n",
       "4          1480  1/1/2016 00:01:12  1/1/2016 00:25:52              2006   \n",
       "\n",
       "       start station name  start station latitude  start station longitude  \\\n",
       "0   Howard St & Centre St               40.719105               -73.999733   \n",
       "1         E 31 St & 3 Ave               40.743943               -73.979661   \n",
       "2        10 Ave & W 28 St               40.750664               -74.001768   \n",
       "3   Howard St & Centre St               40.719105               -73.999733   \n",
       "4  Central Park S & 6 Ave               40.765909               -73.976342   \n",
       "\n",
       "   end station id            end station name  end station latitude  \\\n",
       "0            3002  South End Ave & Liberty St             40.711512   \n",
       "1             498          Broadway & W 32 St             40.748549   \n",
       "2             284       Greenwich Ave & 8 Ave             40.739017   \n",
       "3            3002  South End Ave & Liberty St             40.711512   \n",
       "4            2006      Central Park S & 6 Ave             40.765909   \n",
       "\n",
       "   end station longitude  bikeid    usertype  birth year  gender  \n",
       "0             -74.015756   22285  Subscriber      1958.0       1  \n",
       "1             -73.988084   17827  Subscriber      1969.0       1  \n",
       "2             -74.002638   21997  Subscriber      1982.0       2  \n",
       "3             -74.015756   22794  Subscriber      1961.0       2  \n",
       "4             -73.976342   14562  Subscriber      1952.0       1  "
      ]
     },
     "execution_count": 4,
     "metadata": {},
     "output_type": "execute_result"
    }
   ],
   "source": [
    "df_jan = pd.read_csv(os.getenv(\"PUIDATA\") + \"/\" + datestring + '-citibike-tripdata.csv')\n",
    "df_jan.head()"
   ]
  },
  {
   "cell_type": "code",
   "execution_count": 5,
   "metadata": {
    "collapsed": false
   },
   "outputs": [
    {
     "name": "stdout",
     "output_type": "stream",
     "text": [
      "Downloading 201607\n",
      "file in place, you can continue\n"
     ]
    }
   ],
   "source": [
    "# warmer month\n",
    "datestring = '201607'\n",
    "getCitiBikeCSV(datestring)"
   ]
  },
  {
   "cell_type": "code",
   "execution_count": 6,
   "metadata": {
    "collapsed": false
   },
   "outputs": [
    {
     "data": {
      "text/html": [
       "<div>\n",
       "<table border=\"1\" class=\"dataframe\">\n",
       "  <thead>\n",
       "    <tr style=\"text-align: right;\">\n",
       "      <th></th>\n",
       "      <th>tripduration</th>\n",
       "      <th>starttime</th>\n",
       "      <th>stoptime</th>\n",
       "      <th>start station id</th>\n",
       "      <th>start station name</th>\n",
       "      <th>start station latitude</th>\n",
       "      <th>start station longitude</th>\n",
       "      <th>end station id</th>\n",
       "      <th>end station name</th>\n",
       "      <th>end station latitude</th>\n",
       "      <th>end station longitude</th>\n",
       "      <th>bikeid</th>\n",
       "      <th>usertype</th>\n",
       "      <th>birth year</th>\n",
       "      <th>gender</th>\n",
       "    </tr>\n",
       "  </thead>\n",
       "  <tbody>\n",
       "    <tr>\n",
       "      <th>0</th>\n",
       "      <td>704</td>\n",
       "      <td>7/1/2016 00:00:02</td>\n",
       "      <td>7/1/2016 00:11:47</td>\n",
       "      <td>459</td>\n",
       "      <td>W 20 St &amp; 11 Ave</td>\n",
       "      <td>40.746745</td>\n",
       "      <td>-74.007756</td>\n",
       "      <td>347</td>\n",
       "      <td>Greenwich St &amp; W Houston St</td>\n",
       "      <td>40.728846</td>\n",
       "      <td>-74.008591</td>\n",
       "      <td>17431</td>\n",
       "      <td>Customer</td>\n",
       "      <td>NaN</td>\n",
       "      <td>0</td>\n",
       "    </tr>\n",
       "    <tr>\n",
       "      <th>1</th>\n",
       "      <td>492</td>\n",
       "      <td>7/1/2016 00:00:18</td>\n",
       "      <td>7/1/2016 00:08:31</td>\n",
       "      <td>293</td>\n",
       "      <td>Lafayette St &amp; E 8 St</td>\n",
       "      <td>40.730287</td>\n",
       "      <td>-73.990765</td>\n",
       "      <td>466</td>\n",
       "      <td>W 25 St &amp; 6 Ave</td>\n",
       "      <td>40.743954</td>\n",
       "      <td>-73.991449</td>\n",
       "      <td>24159</td>\n",
       "      <td>Subscriber</td>\n",
       "      <td>1984.0</td>\n",
       "      <td>1</td>\n",
       "    </tr>\n",
       "    <tr>\n",
       "      <th>2</th>\n",
       "      <td>191</td>\n",
       "      <td>7/1/2016 00:00:19</td>\n",
       "      <td>7/1/2016 00:03:31</td>\n",
       "      <td>3090</td>\n",
       "      <td>N 8 St &amp; Driggs Ave</td>\n",
       "      <td>40.717746</td>\n",
       "      <td>-73.956001</td>\n",
       "      <td>3107</td>\n",
       "      <td>Bedford Ave &amp; Nassau Ave</td>\n",
       "      <td>40.723117</td>\n",
       "      <td>-73.952123</td>\n",
       "      <td>16345</td>\n",
       "      <td>Subscriber</td>\n",
       "      <td>1986.0</td>\n",
       "      <td>2</td>\n",
       "    </tr>\n",
       "    <tr>\n",
       "      <th>3</th>\n",
       "      <td>687</td>\n",
       "      <td>7/1/2016 00:00:24</td>\n",
       "      <td>7/1/2016 00:11:52</td>\n",
       "      <td>459</td>\n",
       "      <td>W 20 St &amp; 11 Ave</td>\n",
       "      <td>40.746745</td>\n",
       "      <td>-74.007756</td>\n",
       "      <td>347</td>\n",
       "      <td>Greenwich St &amp; W Houston St</td>\n",
       "      <td>40.728846</td>\n",
       "      <td>-74.008591</td>\n",
       "      <td>25210</td>\n",
       "      <td>Customer</td>\n",
       "      <td>NaN</td>\n",
       "      <td>0</td>\n",
       "    </tr>\n",
       "    <tr>\n",
       "      <th>4</th>\n",
       "      <td>609</td>\n",
       "      <td>7/1/2016 00:00:31</td>\n",
       "      <td>7/1/2016 00:10:40</td>\n",
       "      <td>284</td>\n",
       "      <td>Greenwich Ave &amp; 8 Ave</td>\n",
       "      <td>40.739017</td>\n",
       "      <td>-74.002638</td>\n",
       "      <td>212</td>\n",
       "      <td>W 16 St &amp; The High Line</td>\n",
       "      <td>40.743349</td>\n",
       "      <td>-74.006818</td>\n",
       "      <td>15514</td>\n",
       "      <td>Customer</td>\n",
       "      <td>NaN</td>\n",
       "      <td>0</td>\n",
       "    </tr>\n",
       "  </tbody>\n",
       "</table>\n",
       "</div>"
      ],
      "text/plain": [
       "   tripduration          starttime           stoptime  start station id  \\\n",
       "0           704  7/1/2016 00:00:02  7/1/2016 00:11:47               459   \n",
       "1           492  7/1/2016 00:00:18  7/1/2016 00:08:31               293   \n",
       "2           191  7/1/2016 00:00:19  7/1/2016 00:03:31              3090   \n",
       "3           687  7/1/2016 00:00:24  7/1/2016 00:11:52               459   \n",
       "4           609  7/1/2016 00:00:31  7/1/2016 00:10:40               284   \n",
       "\n",
       "      start station name  start station latitude  start station longitude  \\\n",
       "0       W 20 St & 11 Ave               40.746745               -74.007756   \n",
       "1  Lafayette St & E 8 St               40.730287               -73.990765   \n",
       "2    N 8 St & Driggs Ave               40.717746               -73.956001   \n",
       "3       W 20 St & 11 Ave               40.746745               -74.007756   \n",
       "4  Greenwich Ave & 8 Ave               40.739017               -74.002638   \n",
       "\n",
       "   end station id             end station name  end station latitude  \\\n",
       "0             347  Greenwich St & W Houston St             40.728846   \n",
       "1             466              W 25 St & 6 Ave             40.743954   \n",
       "2            3107     Bedford Ave & Nassau Ave             40.723117   \n",
       "3             347  Greenwich St & W Houston St             40.728846   \n",
       "4             212      W 16 St & The High Line             40.743349   \n",
       "\n",
       "   end station longitude  bikeid    usertype  birth year  gender  \n",
       "0             -74.008591   17431    Customer         NaN       0  \n",
       "1             -73.991449   24159  Subscriber      1984.0       1  \n",
       "2             -73.952123   16345  Subscriber      1986.0       2  \n",
       "3             -74.008591   25210    Customer         NaN       0  \n",
       "4             -74.006818   15514    Customer         NaN       0  "
      ]
     },
     "execution_count": 6,
     "metadata": {},
     "output_type": "execute_result"
    }
   ],
   "source": [
    "df_jul = pd.read_csv(os.getenv(\"PUIDATA\") + \"/\" + datestring + '-citibike-tripdata.csv')\n",
    "df_jul.head()"
   ]
  },
  {
   "cell_type": "code",
   "execution_count": 7,
   "metadata": {
    "collapsed": false
   },
   "outputs": [
    {
     "name": "stdout",
     "output_type": "stream",
     "text": [
      "7642170\n",
      "20701650\n"
     ]
    }
   ],
   "source": [
    "print(df_jan.size)\n",
    "print(df_jul.size)"
   ]
  },
  {
   "cell_type": "code",
   "execution_count": 8,
   "metadata": {
    "collapsed": true
   },
   "outputs": [],
   "source": [
    "df = pd.concat([df_jan, df_jul])"
   ]
  },
  {
   "cell_type": "code",
   "execution_count": 9,
   "metadata": {
    "collapsed": false
   },
   "outputs": [
    {
     "name": "stdout",
     "output_type": "stream",
     "text": [
      "28343820\n"
     ]
    }
   ],
   "source": [
    "print(df.size)"
   ]
  },
  {
   "cell_type": "code",
   "execution_count": 10,
   "metadata": {
    "collapsed": false
   },
   "outputs": [
    {
     "data": {
      "text/plain": [
       "Index(['tripduration', 'starttime', 'stoptime', 'start station id',\n",
       "       'start station name', 'start station latitude',\n",
       "       'start station longitude', 'end station id', 'end station name',\n",
       "       'end station latitude', 'end station longitude', 'bikeid', 'usertype',\n",
       "       'birth year', 'gender'],\n",
       "      dtype='object')"
      ]
     },
     "execution_count": 10,
     "metadata": {},
     "output_type": "execute_result"
    }
   ],
   "source": [
    "df.columns"
   ]
  },
  {
   "cell_type": "code",
   "execution_count": 11,
   "metadata": {
    "collapsed": false
   },
   "outputs": [
    {
     "data": {
      "text/html": [
       "<div>\n",
       "<table border=\"1\" class=\"dataframe\">\n",
       "  <thead>\n",
       "    <tr style=\"text-align: right;\">\n",
       "      <th></th>\n",
       "      <th>tripduration</th>\n",
       "      <th>starttime</th>\n",
       "      <th>start station latitude</th>\n",
       "      <th>start station longitude</th>\n",
       "      <th>usertype</th>\n",
       "      <th>birth year</th>\n",
       "      <th>gender</th>\n",
       "    </tr>\n",
       "  </thead>\n",
       "  <tbody>\n",
       "    <tr>\n",
       "      <th>0</th>\n",
       "      <td>923</td>\n",
       "      <td>1/1/2016 00:00:41</td>\n",
       "      <td>40.719105</td>\n",
       "      <td>-73.999733</td>\n",
       "      <td>Subscriber</td>\n",
       "      <td>1958.0</td>\n",
       "      <td>1</td>\n",
       "    </tr>\n",
       "    <tr>\n",
       "      <th>1</th>\n",
       "      <td>379</td>\n",
       "      <td>1/1/2016 00:00:45</td>\n",
       "      <td>40.743943</td>\n",
       "      <td>-73.979661</td>\n",
       "      <td>Subscriber</td>\n",
       "      <td>1969.0</td>\n",
       "      <td>1</td>\n",
       "    </tr>\n",
       "    <tr>\n",
       "      <th>2</th>\n",
       "      <td>589</td>\n",
       "      <td>1/1/2016 00:00:48</td>\n",
       "      <td>40.750664</td>\n",
       "      <td>-74.001768</td>\n",
       "      <td>Subscriber</td>\n",
       "      <td>1982.0</td>\n",
       "      <td>2</td>\n",
       "    </tr>\n",
       "    <tr>\n",
       "      <th>3</th>\n",
       "      <td>889</td>\n",
       "      <td>1/1/2016 00:01:06</td>\n",
       "      <td>40.719105</td>\n",
       "      <td>-73.999733</td>\n",
       "      <td>Subscriber</td>\n",
       "      <td>1961.0</td>\n",
       "      <td>2</td>\n",
       "    </tr>\n",
       "    <tr>\n",
       "      <th>4</th>\n",
       "      <td>1480</td>\n",
       "      <td>1/1/2016 00:01:12</td>\n",
       "      <td>40.765909</td>\n",
       "      <td>-73.976342</td>\n",
       "      <td>Subscriber</td>\n",
       "      <td>1952.0</td>\n",
       "      <td>1</td>\n",
       "    </tr>\n",
       "  </tbody>\n",
       "</table>\n",
       "</div>"
      ],
      "text/plain": [
       "   tripduration          starttime  start station latitude  \\\n",
       "0           923  1/1/2016 00:00:41               40.719105   \n",
       "1           379  1/1/2016 00:00:45               40.743943   \n",
       "2           589  1/1/2016 00:00:48               40.750664   \n",
       "3           889  1/1/2016 00:01:06               40.719105   \n",
       "4          1480  1/1/2016 00:01:12               40.765909   \n",
       "\n",
       "   start station longitude    usertype  birth year  gender  \n",
       "0               -73.999733  Subscriber      1958.0       1  \n",
       "1               -73.979661  Subscriber      1969.0       1  \n",
       "2               -74.001768  Subscriber      1982.0       2  \n",
       "3               -73.999733  Subscriber      1961.0       2  \n",
       "4               -73.976342  Subscriber      1952.0       1  "
      ]
     },
     "execution_count": 11,
     "metadata": {},
     "output_type": "execute_result"
    }
   ],
   "source": [
    "# removing columns not needed for both questions\n",
    "df.drop(['stoptime', 'start station id', 'start station name', 'end station id', \n",
    "         'end station name', 'end station latitude', 'end station longitude', \n",
    "         'bikeid'], axis=1, inplace=True)\n",
    "df.head()"
   ]
  },
  {
   "cell_type": "code",
   "execution_count": 12,
   "metadata": {
    "collapsed": true
   },
   "outputs": [],
   "source": [
    "df['date'] = pd.to_datetime(df['starttime'])"
   ]
  },
  {
   "cell_type": "code",
   "execution_count": 13,
   "metadata": {
    "collapsed": false
   },
   "outputs": [
    {
     "data": {
      "text/html": [
       "<div>\n",
       "<table border=\"1\" class=\"dataframe\">\n",
       "  <thead>\n",
       "    <tr style=\"text-align: right;\">\n",
       "      <th></th>\n",
       "      <th>tripduration</th>\n",
       "      <th>start station latitude</th>\n",
       "      <th>start station longitude</th>\n",
       "      <th>usertype</th>\n",
       "      <th>birth year</th>\n",
       "      <th>gender</th>\n",
       "      <th>date</th>\n",
       "    </tr>\n",
       "  </thead>\n",
       "  <tbody>\n",
       "    <tr>\n",
       "      <th>0</th>\n",
       "      <td>923</td>\n",
       "      <td>40.719105</td>\n",
       "      <td>-73.999733</td>\n",
       "      <td>Subscriber</td>\n",
       "      <td>1958.0</td>\n",
       "      <td>1</td>\n",
       "      <td>2016-01-01 00:00:41</td>\n",
       "    </tr>\n",
       "    <tr>\n",
       "      <th>1</th>\n",
       "      <td>379</td>\n",
       "      <td>40.743943</td>\n",
       "      <td>-73.979661</td>\n",
       "      <td>Subscriber</td>\n",
       "      <td>1969.0</td>\n",
       "      <td>1</td>\n",
       "      <td>2016-01-01 00:00:45</td>\n",
       "    </tr>\n",
       "    <tr>\n",
       "      <th>2</th>\n",
       "      <td>589</td>\n",
       "      <td>40.750664</td>\n",
       "      <td>-74.001768</td>\n",
       "      <td>Subscriber</td>\n",
       "      <td>1982.0</td>\n",
       "      <td>2</td>\n",
       "      <td>2016-01-01 00:00:48</td>\n",
       "    </tr>\n",
       "    <tr>\n",
       "      <th>3</th>\n",
       "      <td>889</td>\n",
       "      <td>40.719105</td>\n",
       "      <td>-73.999733</td>\n",
       "      <td>Subscriber</td>\n",
       "      <td>1961.0</td>\n",
       "      <td>2</td>\n",
       "      <td>2016-01-01 00:01:06</td>\n",
       "    </tr>\n",
       "    <tr>\n",
       "      <th>4</th>\n",
       "      <td>1480</td>\n",
       "      <td>40.765909</td>\n",
       "      <td>-73.976342</td>\n",
       "      <td>Subscriber</td>\n",
       "      <td>1952.0</td>\n",
       "      <td>1</td>\n",
       "      <td>2016-01-01 00:01:12</td>\n",
       "    </tr>\n",
       "  </tbody>\n",
       "</table>\n",
       "</div>"
      ],
      "text/plain": [
       "   tripduration  start station latitude  start station longitude    usertype  \\\n",
       "0           923               40.719105               -73.999733  Subscriber   \n",
       "1           379               40.743943               -73.979661  Subscriber   \n",
       "2           589               40.750664               -74.001768  Subscriber   \n",
       "3           889               40.719105               -73.999733  Subscriber   \n",
       "4          1480               40.765909               -73.976342  Subscriber   \n",
       "\n",
       "   birth year  gender                date  \n",
       "0      1958.0       1 2016-01-01 00:00:41  \n",
       "1      1969.0       1 2016-01-01 00:00:45  \n",
       "2      1982.0       2 2016-01-01 00:00:48  \n",
       "3      1961.0       2 2016-01-01 00:01:06  \n",
       "4      1952.0       1 2016-01-01 00:01:12  "
      ]
     },
     "execution_count": 13,
     "metadata": {},
     "output_type": "execute_result"
    }
   ],
   "source": [
    "df.drop(['starttime'], axis=1, inplace=True)\n",
    "df.head()"
   ]
  },
  {
   "cell_type": "markdown",
   "metadata": {},
   "source": [
    "# Trip Duration of bikers that ride during the day vs at night\n",
    "\n",
    "Definitions:\n",
    "* day: 06:00 AM - 05:59 PM\n",
    "* night: 06:00 PM - 05:59 AM"
   ]
  },
  {
   "cell_type": "markdown",
   "metadata": {},
   "source": [
    "## $H_0$: There is no statistical difference between the distributions of the trip duration of morning and night bikers\n",
    "\n",
    "## $\\alpha = 0.05$"
   ]
  },
  {
   "cell_type": "code",
   "execution_count": 14,
   "metadata": {
    "collapsed": false
   },
   "outputs": [],
   "source": [
    "def daynight(hour):\n",
    "    '''\n",
    "    Returns a flag to determine if the time is considered day or night\n",
    "    - 1: if the hour of the day is between 6AM to 5PM\n",
    "    - 0: if the hour of the day is between 6PM to 5AM\n",
    "    \n",
    "    Arguments:\n",
    "    - hour: the hour of the day\n",
    "    '''\n",
    "    if 6 <= hour <= 17:\n",
    "        return 1\n",
    "    else:\n",
    "        return 0"
   ]
  },
  {
   "cell_type": "code",
   "execution_count": 15,
   "metadata": {
    "collapsed": false
   },
   "outputs": [
    {
     "data": {
      "text/html": [
       "<div>\n",
       "<table border=\"1\" class=\"dataframe\">\n",
       "  <thead>\n",
       "    <tr style=\"text-align: right;\">\n",
       "      <th></th>\n",
       "      <th>tripduration</th>\n",
       "      <th>start station latitude</th>\n",
       "      <th>start station longitude</th>\n",
       "      <th>usertype</th>\n",
       "      <th>birth year</th>\n",
       "      <th>gender</th>\n",
       "      <th>date</th>\n",
       "      <th>hour</th>\n",
       "      <th>daynight</th>\n",
       "    </tr>\n",
       "  </thead>\n",
       "  <tbody>\n",
       "    <tr>\n",
       "      <th>0</th>\n",
       "      <td>923</td>\n",
       "      <td>40.719105</td>\n",
       "      <td>-73.999733</td>\n",
       "      <td>Subscriber</td>\n",
       "      <td>1958.0</td>\n",
       "      <td>1</td>\n",
       "      <td>2016-01-01 00:00:41</td>\n",
       "      <td>0</td>\n",
       "      <td>0</td>\n",
       "    </tr>\n",
       "    <tr>\n",
       "      <th>1</th>\n",
       "      <td>379</td>\n",
       "      <td>40.743943</td>\n",
       "      <td>-73.979661</td>\n",
       "      <td>Subscriber</td>\n",
       "      <td>1969.0</td>\n",
       "      <td>1</td>\n",
       "      <td>2016-01-01 00:00:45</td>\n",
       "      <td>0</td>\n",
       "      <td>0</td>\n",
       "    </tr>\n",
       "    <tr>\n",
       "      <th>2</th>\n",
       "      <td>589</td>\n",
       "      <td>40.750664</td>\n",
       "      <td>-74.001768</td>\n",
       "      <td>Subscriber</td>\n",
       "      <td>1982.0</td>\n",
       "      <td>2</td>\n",
       "      <td>2016-01-01 00:00:48</td>\n",
       "      <td>0</td>\n",
       "      <td>0</td>\n",
       "    </tr>\n",
       "    <tr>\n",
       "      <th>3</th>\n",
       "      <td>889</td>\n",
       "      <td>40.719105</td>\n",
       "      <td>-73.999733</td>\n",
       "      <td>Subscriber</td>\n",
       "      <td>1961.0</td>\n",
       "      <td>2</td>\n",
       "      <td>2016-01-01 00:01:06</td>\n",
       "      <td>0</td>\n",
       "      <td>0</td>\n",
       "    </tr>\n",
       "    <tr>\n",
       "      <th>4</th>\n",
       "      <td>1480</td>\n",
       "      <td>40.765909</td>\n",
       "      <td>-73.976342</td>\n",
       "      <td>Subscriber</td>\n",
       "      <td>1952.0</td>\n",
       "      <td>1</td>\n",
       "      <td>2016-01-01 00:01:12</td>\n",
       "      <td>0</td>\n",
       "      <td>0</td>\n",
       "    </tr>\n",
       "  </tbody>\n",
       "</table>\n",
       "</div>"
      ],
      "text/plain": [
       "   tripduration  start station latitude  start station longitude    usertype  \\\n",
       "0           923               40.719105               -73.999733  Subscriber   \n",
       "1           379               40.743943               -73.979661  Subscriber   \n",
       "2           589               40.750664               -74.001768  Subscriber   \n",
       "3           889               40.719105               -73.999733  Subscriber   \n",
       "4          1480               40.765909               -73.976342  Subscriber   \n",
       "\n",
       "   birth year  gender                date  hour  daynight  \n",
       "0      1958.0       1 2016-01-01 00:00:41     0         0  \n",
       "1      1969.0       1 2016-01-01 00:00:45     0         0  \n",
       "2      1982.0       2 2016-01-01 00:00:48     0         0  \n",
       "3      1961.0       2 2016-01-01 00:01:06     0         0  \n",
       "4      1952.0       1 2016-01-01 00:01:12     0         0  "
      ]
     },
     "execution_count": 15,
     "metadata": {},
     "output_type": "execute_result"
    }
   ],
   "source": [
    "df['hour'] = df.date.dt.hour\n",
    "df['daynight'] = df['hour'].apply(daynight)\n",
    "df.head()"
   ]
  },
  {
   "cell_type": "code",
   "execution_count": 16,
   "metadata": {
    "collapsed": false
   },
   "outputs": [
    {
     "name": "stderr",
     "output_type": "stream",
     "text": [
      "/opt/rh/anaconda/root/envs/PUI2016_Python3/lib/python3.5/site-packages/numpy/lib/function_base.py:3403: RuntimeWarning: Invalid value encountered in median\n",
      "  RuntimeWarning)\n"
     ]
    },
    {
     "data": {
      "text/html": [
       "<div>\n",
       "<table border=\"1\" class=\"dataframe\">\n",
       "  <thead>\n",
       "    <tr style=\"text-align: right;\">\n",
       "      <th></th>\n",
       "      <th>tripduration</th>\n",
       "      <th>start station latitude</th>\n",
       "      <th>start station longitude</th>\n",
       "      <th>birth year</th>\n",
       "      <th>gender</th>\n",
       "      <th>hour</th>\n",
       "      <th>daynight</th>\n",
       "    </tr>\n",
       "  </thead>\n",
       "  <tbody>\n",
       "    <tr>\n",
       "      <th>count</th>\n",
       "      <td>1.889588e+06</td>\n",
       "      <td>1.889588e+06</td>\n",
       "      <td>1.889588e+06</td>\n",
       "      <td>1.661448e+06</td>\n",
       "      <td>1.889588e+06</td>\n",
       "      <td>1.889588e+06</td>\n",
       "      <td>1.889588e+06</td>\n",
       "    </tr>\n",
       "    <tr>\n",
       "      <th>mean</th>\n",
       "      <td>9.590442e+02</td>\n",
       "      <td>4.073740e+01</td>\n",
       "      <td>-7.398689e+01</td>\n",
       "      <td>1.977564e+03</td>\n",
       "      <td>1.089524e+00</td>\n",
       "      <td>1.391510e+01</td>\n",
       "      <td>6.914200e-01</td>\n",
       "    </tr>\n",
       "    <tr>\n",
       "      <th>std</th>\n",
       "      <td>1.235051e+04</td>\n",
       "      <td>2.249149e-02</td>\n",
       "      <td>1.613718e-02</td>\n",
       "      <td>1.164123e+01</td>\n",
       "      <td>5.722401e-01</td>\n",
       "      <td>4.925261e+00</td>\n",
       "      <td>4.619074e-01</td>\n",
       "    </tr>\n",
       "    <tr>\n",
       "      <th>min</th>\n",
       "      <td>6.100000e+01</td>\n",
       "      <td>4.064668e+01</td>\n",
       "      <td>-7.402545e+01</td>\n",
       "      <td>1.885000e+03</td>\n",
       "      <td>0.000000e+00</td>\n",
       "      <td>0.000000e+00</td>\n",
       "      <td>0.000000e+00</td>\n",
       "    </tr>\n",
       "    <tr>\n",
       "      <th>25%</th>\n",
       "      <td>3.790000e+02</td>\n",
       "      <td>4.072110e+01</td>\n",
       "      <td>-7.399810e+01</td>\n",
       "      <td>NaN</td>\n",
       "      <td>1.000000e+00</td>\n",
       "      <td>1.000000e+01</td>\n",
       "      <td>0.000000e+00</td>\n",
       "    </tr>\n",
       "    <tr>\n",
       "      <th>50%</th>\n",
       "      <td>6.250000e+02</td>\n",
       "      <td>4.073827e+01</td>\n",
       "      <td>-7.398864e+01</td>\n",
       "      <td>NaN</td>\n",
       "      <td>1.000000e+00</td>\n",
       "      <td>1.400000e+01</td>\n",
       "      <td>1.000000e+00</td>\n",
       "    </tr>\n",
       "    <tr>\n",
       "      <th>75%</th>\n",
       "      <td>1.061000e+03</td>\n",
       "      <td>4.075300e+01</td>\n",
       "      <td>-7.397771e+01</td>\n",
       "      <td>NaN</td>\n",
       "      <td>1.000000e+00</td>\n",
       "      <td>1.800000e+01</td>\n",
       "      <td>1.000000e+00</td>\n",
       "    </tr>\n",
       "    <tr>\n",
       "      <th>max</th>\n",
       "      <td>6.707533e+06</td>\n",
       "      <td>4.078721e+01</td>\n",
       "      <td>-7.392850e+01</td>\n",
       "      <td>2.000000e+03</td>\n",
       "      <td>2.000000e+00</td>\n",
       "      <td>2.300000e+01</td>\n",
       "      <td>1.000000e+00</td>\n",
       "    </tr>\n",
       "  </tbody>\n",
       "</table>\n",
       "</div>"
      ],
      "text/plain": [
       "       tripduration  start station latitude  start station longitude  \\\n",
       "count  1.889588e+06            1.889588e+06             1.889588e+06   \n",
       "mean   9.590442e+02            4.073740e+01            -7.398689e+01   \n",
       "std    1.235051e+04            2.249149e-02             1.613718e-02   \n",
       "min    6.100000e+01            4.064668e+01            -7.402545e+01   \n",
       "25%    3.790000e+02            4.072110e+01            -7.399810e+01   \n",
       "50%    6.250000e+02            4.073827e+01            -7.398864e+01   \n",
       "75%    1.061000e+03            4.075300e+01            -7.397771e+01   \n",
       "max    6.707533e+06            4.078721e+01            -7.392850e+01   \n",
       "\n",
       "         birth year        gender          hour      daynight  \n",
       "count  1.661448e+06  1.889588e+06  1.889588e+06  1.889588e+06  \n",
       "mean   1.977564e+03  1.089524e+00  1.391510e+01  6.914200e-01  \n",
       "std    1.164123e+01  5.722401e-01  4.925261e+00  4.619074e-01  \n",
       "min    1.885000e+03  0.000000e+00  0.000000e+00  0.000000e+00  \n",
       "25%             NaN  1.000000e+00  1.000000e+01  0.000000e+00  \n",
       "50%             NaN  1.000000e+00  1.400000e+01  1.000000e+00  \n",
       "75%             NaN  1.000000e+00  1.800000e+01  1.000000e+00  \n",
       "max    2.000000e+03  2.000000e+00  2.300000e+01  1.000000e+00  "
      ]
     },
     "execution_count": 16,
     "metadata": {},
     "output_type": "execute_result"
    }
   ],
   "source": [
    "df.describe()"
   ]
  },
  {
   "cell_type": "code",
   "execution_count": 17,
   "metadata": {
    "collapsed": false
   },
   "outputs": [
    {
     "data": {
      "text/plain": [
       "17006292"
      ]
     },
     "execution_count": 17,
     "metadata": {},
     "output_type": "execute_result"
    }
   ],
   "source": [
    "df.size"
   ]
  },
  {
   "cell_type": "markdown",
   "metadata": {},
   "source": [
    "*Skipping the extra credit for doing the KS test from scratch for now*"
   ]
  },
  {
   "cell_type": "code",
   "execution_count": 18,
   "metadata": {
    "collapsed": false
   },
   "outputs": [
    {
     "data": {
      "text/plain": [
       "1306499"
      ]
     },
     "execution_count": 18,
     "metadata": {},
     "output_type": "execute_result"
    }
   ],
   "source": [
    "day_duration = df[df['daynight']==1].tripduration\n",
    "day_duration.size"
   ]
  },
  {
   "cell_type": "code",
   "execution_count": 19,
   "metadata": {
    "collapsed": false
   },
   "outputs": [
    {
     "data": {
      "text/plain": [
       "583089"
      ]
     },
     "execution_count": 19,
     "metadata": {},
     "output_type": "execute_result"
    }
   ],
   "source": [
    "night_duration = df[df['daynight']==0].tripduration\n",
    "night_duration.size"
   ]
  },
  {
   "cell_type": "markdown",
   "metadata": {},
   "source": [
    "**Note: As per the scipy documentation**\n",
    "\n",
    "*ks_2samp - This is a two-sided test for the null hypothesis that **2 independent samples are drawn from the same continuous distribution**.*"
   ]
  },
  {
   "cell_type": "code",
   "execution_count": 79,
   "metadata": {
    "collapsed": false
   },
   "outputs": [
    {
     "name": "stdout",
     "output_type": "stream",
     "text": [
      "Ks_2sampResult(statistic=0.0078040355143450535, pvalue=9.2462402973751894e-22)\n"
     ]
    }
   ],
   "source": [
    "ks = scipy.stats.ks_2samp(day_duration, night_duration)\n",
    "print(ks)"
   ]
  },
  {
   "cell_type": "markdown",
   "metadata": {},
   "source": [
    "## Explain the return value of the KS 2-sample test\n",
    "Since the KS 2-sample test's null hypothesis is that the 2 samples are the same, and that specific null hypothesis can only be rejected if the statistic is greater than the value of $c(\\alpha)$."
   ]
  },
  {
   "cell_type": "code",
   "execution_count": 86,
   "metadata": {
    "collapsed": false
   },
   "outputs": [
    {
     "data": {
      "image/png": "[encoded data removed]",
      "text/plain": [
       "<IPython.core.display.Image object>"
      ]
     },
     "execution_count": 86,
     "metadata": {},
     "output_type": "execute_result"
    }
   ],
   "source": [
    "Image(filename='./screenshots/ks-2sample.png')"
   ]
  },
  {
   "cell_type": "markdown",
   "metadata": {},
   "source": [
    "Since $0.0078 < 1.36$, we cannot reject the null hypothesis of the scipy.stats.ks_2samp that the 2 distributions are the same.\n",
    "\n",
    "Which in turn means, our $H_0$ that **there is no statistical difference between the distributions of morning and night bikers** CAN BE REJECTED!!"
   ]
  },
  {
   "cell_type": "markdown",
   "metadata": {},
   "source": [
    "### Sampling the data and sorting it for Pearson's Test and Spearman's Test for Correlation"
   ]
  },
  {
   "cell_type": "code",
   "execution_count": 22,
   "metadata": {
    "collapsed": false
   },
   "outputs": [
    {
     "data": {
      "text/plain": [
       "array([ 135,  156,  166,  169,  176,  177,  180,  184,  185,  189,  193,\n",
       "        228,  231,  245,  254,  268,  270,  271,  274,  278,  283,  292,\n",
       "        292,  295,  297,  302,  302,  304,  308,  309,  311,  312,  327,\n",
       "        334,  339,  345,  346,  365,  384,  386,  390,  392,  396,  401,\n",
       "        403,  412,  416,  421,  424,  426,  427,  427,  436,  445,  445,\n",
       "        451,  456,  457,  460,  466,  470,  474,  474,  481,  483,  486,\n",
       "        492,  493,  494,  496,  511,  512,  514,  514,  515,  532,  532,\n",
       "        533,  534,  543,  552,  555,  559,  571,  583,  587,  607,  617,\n",
       "        617,  620,  620,  624,  633,  635,  654,  654,  660,  668,  675,\n",
       "        675,  676,  679,  681,  685,  692,  696,  702,  706,  709,  711,\n",
       "        714,  733,  735,  738,  738,  761,  765,  776,  780,  798,  802,\n",
       "        802,  806,  824,  825,  829,  832,  843,  849,  852,  861,  877,\n",
       "        879,  879,  898,  910,  911,  950,  956,  956,  960, 1028, 1041,\n",
       "       1042, 1052, 1056, 1063, 1097, 1102, 1105, 1113, 1138, 1143, 1159,\n",
       "       1167, 1178, 1180, 1185, 1188, 1199, 1202, 1210, 1256, 1291, 1341,\n",
       "       1391, 1394, 1396, 1431, 1444, 1445, 1458, 1468, 1502, 1514, 1563,\n",
       "       1654, 1673, 1707, 1745, 1745, 1751, 1897, 1907, 1924, 1989, 2024,\n",
       "       2033, 2090, 2138, 2160, 2168, 2331, 2670, 3244, 3508, 3870, 4561,\n",
       "       4993, 5730])"
      ]
     },
     "execution_count": 22,
     "metadata": {},
     "output_type": "execute_result"
    }
   ],
   "source": [
    "day_200 = np.random.choice(day_duration, size=200, replace=False)\n",
    "day_200.sort()\n",
    "day_200"
   ]
  },
  {
   "cell_type": "code",
   "execution_count": 23,
   "metadata": {
    "collapsed": false
   },
   "outputs": [
    {
     "data": {
      "text/plain": [
       "array([ 128,  131,  141,  144,  158,  163,  206,  208,  209,  211,  213,\n",
       "        213,  219,  230,  236,  240,  243,  243,  247,  251,  254,  255,\n",
       "        257,  262,  264,  275,  283,  287,  292,  293,  299,  300,  306,\n",
       "        315,  319,  320,  320,  326,  328,  336,  341,  347,  363,  373,\n",
       "        380,  386,  386,  393,  406,  406,  409,  412,  414,  419,  419,\n",
       "        421,  426,  427,  430,  432,  437,  440,  441,  443,  446,  448,\n",
       "        450,  454,  460,  463,  464,  468,  469,  471,  480,  486,  495,\n",
       "        500,  512,  515,  516,  520,  521,  523,  525,  525,  526,  526,\n",
       "        527,  531,  535,  544,  549,  554,  556,  561,  563,  574,  574,\n",
       "        578,  581,  584,  587,  590,  603,  605,  608,  611,  612,  620,\n",
       "        626,  627,  632,  641,  648,  655,  669,  672,  676,  690,  693,\n",
       "        699,  702,  702,  713,  721,  735,  740,  742,  744,  749,  762,\n",
       "        762,  769,  775,  781,  785,  812,  827,  836,  861,  864,  874,\n",
       "        888,  897,  904,  908,  911,  932,  942,  959,  966,  980,  983,\n",
       "       1000, 1014, 1024, 1040, 1044, 1054, 1055, 1100, 1137, 1166, 1172,\n",
       "       1199, 1219, 1259, 1292, 1294, 1331, 1352, 1381, 1383, 1387, 1389,\n",
       "       1399, 1424, 1452, 1484, 1532, 1538, 1579, 1590, 1597, 1632, 1687,\n",
       "       1689, 1758, 1893, 1915, 2019, 2143, 2250, 2433, 2468, 2581, 2617,\n",
       "       3514, 3932])"
      ]
     },
     "execution_count": 23,
     "metadata": {},
     "output_type": "execute_result"
    }
   ],
   "source": [
    "night_200 = np.random.choice(night_duration, size=200, replace=False)\n",
    "night_200.sort()\n",
    "night_200"
   ]
  },
  {
   "cell_type": "code",
   "execution_count": 24,
   "metadata": {
    "collapsed": false
   },
   "outputs": [
    {
     "name": "stdout",
     "output_type": "stream",
     "text": [
      "(0.98519516993983225, 1.2939816807754532e-153)\n"
     ]
    }
   ],
   "source": [
    "pearson = scipy.stats.pearsonr(day_200, night_200)\n",
    "print(pearson)"
   ]
  },
  {
   "cell_type": "markdown",
   "metadata": {},
   "source": [
    "## Explain the return value of the Pearson's Test for Correlation\n",
    "\n",
    "As per the scipy documentation for [scipy.stats.pearsonr](https://docs.scipy.org/doc/scipy/reference/generated/scipy.stats.pearsonr.html#scipy.stats.pearsonr)\n",
    "\n",
    "> The p-value roughly indicates the probability of an uncorrelated system producing datasets that have a Pearson correlation at least as extreme as the one computed from these datasets. The p-values are not entirely reliable but are probably reasonable for datasets larger than 500 or so.\n",
    "\n",
    "It says that the p-value returned is the probability that it is not correlated. In this case, the p-value returned is smaller than the significance level $\\alpha$, 0.05, meaning **we can reject the $H_0$ that there is no significant correlation between the two distributions.**"
   ]
  },
  {
   "cell_type": "code",
   "execution_count": 25,
   "metadata": {
    "collapsed": false
   },
   "outputs": [
    {
     "name": "stdout",
     "output_type": "stream",
     "text": [
      "SpearmanrResult(correlation=0.99998949963293249, pvalue=0.0)\n"
     ]
    }
   ],
   "source": [
    "spearman = scipy.stats.spearmanr(day_200, night_200)\n",
    "print(spearman)"
   ]
  },
  {
   "cell_type": "markdown",
   "metadata": {},
   "source": [
    "## Explain the return value of the Spearman's Test for Correlation\n",
    "As per the scipy documentation for [scipy.stats.spearmanr](https://docs.scipy.org/doc/scipy/reference/generated/scipy.stats.spearmanr.html#scipy.stats.spearmanr)\n",
    "\n",
    "> The p-value roughly indicates the probability of an uncorrelated system producing datasets that have a Spearman correlation at least as extreme as the one computed from these datasets. The p-values are not entirely reliable but are probably reasonable for datasets larger than 500 or so.\n",
    "\n",
    "It says that the p-value returned is the probability that it is not correlated. In this case, the p-value returned is smaller than the significance level $\\alpha$, 0.05, meaning **we can reject the $H_0$ that there is no significant correlation between the two distribitions.**"
   ]
  },
  {
   "cell_type": "markdown",
   "metadata": {},
   "source": [
    "# Age of bikers for trips originating from Manhattan and Brooklyn"
   ]
  },
  {
   "cell_type": "markdown",
   "metadata": {},
   "source": [
    "## $H_0$: There is no statistical difference between the distributions of the age riders of Manhattan and Brooklyn originating rides\n",
    "\n",
    "## $\\alpha = 0.05$"
   ]
  },
  {
   "cell_type": "code",
   "execution_count": 87,
   "metadata": {
    "collapsed": false
   },
   "outputs": [],
   "source": [
    "# late import\n",
    "import json\n",
    "try:\n",
    "    import urllib2 as urllib\n",
    "except ImportError:\n",
    "    import urllib.request as urllib\n",
    "    \n",
    "\n",
    "url = 'http://services5.arcgis.com/GfwWNkhOj9bNBqoJ/arcgis/rest/services/nybb/FeatureServer/0/query?where=1=1&outFields=*&outSR=4326&f=geojson'\n",
    "try:\n",
    "   response = urllib.urlopen(url)\n",
    "   data = response.read().decode('utf-8')\n",
    "   data = json.loads(data)\n",
    "except urllib.HTTPError:\n",
    "    print('Invalid URL!!!')"
   ]
  },
  {
   "cell_type": "code",
   "execution_count": 88,
   "metadata": {
    "collapsed": false
   },
   "outputs": [
    {
     "data": {
      "text/plain": [
       "{'BoroCode': 3,\n",
       " 'BoroName': 'Brooklyn',\n",
       " 'OBJECTID': 1,\n",
       " 'Shape__Area': 0.019163176863698,\n",
       " 'Shape__Length': 2.36391194216966}"
      ]
     },
     "execution_count": 88,
     "metadata": {},
     "output_type": "execute_result"
    }
   ],
   "source": [
    "data['features'][0]['properties']"
   ]
  },
  {
   "cell_type": "code",
   "execution_count": 89,
   "metadata": {
    "collapsed": true
   },
   "outputs": [],
   "source": [
    "brooklyn = data['features'][0]"
   ]
  },
  {
   "cell_type": "code",
   "execution_count": 90,
   "metadata": {
    "collapsed": false
   },
   "outputs": [
    {
     "data": {
      "text/plain": [
       "{'BoroCode': 1,\n",
       " 'BoroName': 'Manhattan',\n",
       " 'OBJECTID': 4,\n",
       " 'Shape__Area': 0.00630741395487552,\n",
       " 'Shape__Length': 1.12521485268175}"
      ]
     },
     "execution_count": 90,
     "metadata": {},
     "output_type": "execute_result"
    }
   ],
   "source": [
    "data['features'][3]['properties']"
   ]
  },
  {
   "cell_type": "code",
   "execution_count": 91,
   "metadata": {
    "collapsed": true
   },
   "outputs": [],
   "source": [
    "manhattan = data['features'][3]"
   ]
  },
  {
   "cell_type": "code",
   "execution_count": 92,
   "metadata": {
    "collapsed": false
   },
   "outputs": [],
   "source": [
    "# Reference for getting the min max lat of the boroughs\n",
    "# https://gis.stackexchange.com/questions/90553/fiona-get-each-feature-extent-bounds\n",
    "\n",
    "def explode(coords):\n",
    "    \"\"\"Explode a GeoJSON geometry's coordinates object and yield coordinate tuples.\n",
    "    As long as the input is conforming, the type of the geometry doesn't matter.\"\"\"\n",
    "    for e in coords:\n",
    "        if isinstance(e, (float, int, long)):\n",
    "            yield coords\n",
    "            break\n",
    "        else:\n",
    "            for f in explode(e):\n",
    "                yield f\n",
    "\n",
    "def bbox(f):\n",
    "    x, y = zip(*list(explode(f['geometry']['coordinates'])))\n",
    "    return min(x), min(y), max(x), max(y)"
   ]
  },
  {
   "cell_type": "code",
   "execution_count": 93,
   "metadata": {
    "collapsed": false
   },
   "outputs": [
    {
     "data": {
      "text/plain": [
       "(-74.0418978864012, 40.5695382235533, -73.8335606267475, 40.7391362164936)"
      ]
     },
     "execution_count": 93,
     "metadata": {},
     "output_type": "execute_result"
    }
   ],
   "source": [
    "bbox(brooklyn)"
   ]
  },
  {
   "cell_type": "code",
   "execution_count": 94,
   "metadata": {
    "collapsed": false
   },
   "outputs": [
    {
     "data": {
      "text/plain": [
       "(-74.0477310881111, 40.68292519539, -73.9066524219675, 40.8790463395808)"
      ]
     },
     "execution_count": 94,
     "metadata": {},
     "output_type": "execute_result"
    }
   ],
   "source": [
    "bbox(manhattan)"
   ]
  },
  {
   "cell_type": "code",
   "execution_count": 95,
   "metadata": {
    "collapsed": true
   },
   "outputs": [],
   "source": [
    "def getBorough(row):\n",
    "    b_minlong = -74.0418978864012\n",
    "    b_minlat = 40.5695382235533\n",
    "    b_maxlong = -73.8335606267475\n",
    "    b_maxlat = 40.7391362164936\n",
    "    \n",
    "    m_minlong = -74.0477310881111\n",
    "    m_minlat = 40.68292519539\n",
    "    m_maxlong = -73.9066524219675\n",
    "    m_maxlat = 40.8790463395808\n",
    "    \n",
    "    if (b_minlat <= row['start station latitude'] <= b_maxlat) &(b_minlong <= row['start station longitude'] <= b_maxlong):\n",
    "        return 'Brooklyn'\n",
    "    elif (m_minlat <= row['start station latitude'] <= m_maxlat) &(m_minlong <= row['start station longitude'] <= m_maxlong):\n",
    "        return 'Manhattan'\n",
    "    else:\n",
    "        return 'Other'"
   ]
  },
  {
   "cell_type": "code",
   "execution_count": 96,
   "metadata": {
    "collapsed": false
   },
   "outputs": [],
   "source": [
    "df['borough'] = df.apply(getBorough, axis=1)"
   ]
  },
  {
   "cell_type": "code",
   "execution_count": 97,
   "metadata": {
    "collapsed": false
   },
   "outputs": [],
   "source": [
    "df['age'] = 2017 - df['birth year']"
   ]
  },
  {
   "cell_type": "code",
   "execution_count": 98,
   "metadata": {
    "collapsed": false
   },
   "outputs": [],
   "source": [
    "df['age'].dropna(inplace= True)"
   ]
  },
  {
   "cell_type": "code",
   "execution_count": 99,
   "metadata": {
    "collapsed": false
   },
   "outputs": [
    {
     "data": {
      "text/plain": [
       "20785468"
      ]
     },
     "execution_count": 99,
     "metadata": {},
     "output_type": "execute_result"
    }
   ],
   "source": [
    "df.size"
   ]
  },
  {
   "cell_type": "code",
   "execution_count": 100,
   "metadata": {
    "collapsed": false
   },
   "outputs": [
    {
     "data": {
      "text/html": [
       "<div>\n",
       "<table border=\"1\" class=\"dataframe\">\n",
       "  <thead>\n",
       "    <tr style=\"text-align: right;\">\n",
       "      <th></th>\n",
       "      <th>tripduration</th>\n",
       "      <th>start station latitude</th>\n",
       "      <th>start station longitude</th>\n",
       "      <th>usertype</th>\n",
       "      <th>birth year</th>\n",
       "      <th>gender</th>\n",
       "      <th>date</th>\n",
       "      <th>hour</th>\n",
       "      <th>daynight</th>\n",
       "      <th>borough</th>\n",
       "      <th>age</th>\n",
       "    </tr>\n",
       "  </thead>\n",
       "  <tbody>\n",
       "    <tr>\n",
       "      <th>19</th>\n",
       "      <td>858</td>\n",
       "      <td>40.710451</td>\n",
       "      <td>-73.960876</td>\n",
       "      <td>Customer</td>\n",
       "      <td>NaN</td>\n",
       "      <td>0</td>\n",
       "      <td>2016-01-01 00:09:31</td>\n",
       "      <td>0</td>\n",
       "      <td>0</td>\n",
       "      <td>Brooklyn</td>\n",
       "      <td>NaN</td>\n",
       "    </tr>\n",
       "    <tr>\n",
       "      <th>20</th>\n",
       "      <td>839</td>\n",
       "      <td>40.710451</td>\n",
       "      <td>-73.960876</td>\n",
       "      <td>Customer</td>\n",
       "      <td>NaN</td>\n",
       "      <td>0</td>\n",
       "      <td>2016-01-01 00:09:55</td>\n",
       "      <td>0</td>\n",
       "      <td>0</td>\n",
       "      <td>Brooklyn</td>\n",
       "      <td>NaN</td>\n",
       "    </tr>\n",
       "    <tr>\n",
       "      <th>22</th>\n",
       "      <td>110</td>\n",
       "      <td>40.726281</td>\n",
       "      <td>-73.989780</td>\n",
       "      <td>Customer</td>\n",
       "      <td>NaN</td>\n",
       "      <td>0</td>\n",
       "      <td>2016-01-01 00:10:24</td>\n",
       "      <td>0</td>\n",
       "      <td>0</td>\n",
       "      <td>Brooklyn</td>\n",
       "      <td>NaN</td>\n",
       "    </tr>\n",
       "    <tr>\n",
       "      <th>26</th>\n",
       "      <td>2023</td>\n",
       "      <td>40.776829</td>\n",
       "      <td>-73.963888</td>\n",
       "      <td>Customer</td>\n",
       "      <td>NaN</td>\n",
       "      <td>0</td>\n",
       "      <td>2016-01-01 00:11:15</td>\n",
       "      <td>0</td>\n",
       "      <td>0</td>\n",
       "      <td>Manhattan</td>\n",
       "      <td>NaN</td>\n",
       "    </tr>\n",
       "    <tr>\n",
       "      <th>28</th>\n",
       "      <td>1236</td>\n",
       "      <td>40.767801</td>\n",
       "      <td>-73.965921</td>\n",
       "      <td>Customer</td>\n",
       "      <td>NaN</td>\n",
       "      <td>0</td>\n",
       "      <td>2016-01-01 00:12:14</td>\n",
       "      <td>0</td>\n",
       "      <td>0</td>\n",
       "      <td>Manhattan</td>\n",
       "      <td>NaN</td>\n",
       "    </tr>\n",
       "  </tbody>\n",
       "</table>\n",
       "</div>"
      ],
      "text/plain": [
       "    tripduration  start station latitude  start station longitude  usertype  \\\n",
       "19           858               40.710451               -73.960876  Customer   \n",
       "20           839               40.710451               -73.960876  Customer   \n",
       "22           110               40.726281               -73.989780  Customer   \n",
       "26          2023               40.776829               -73.963888  Customer   \n",
       "28          1236               40.767801               -73.965921  Customer   \n",
       "\n",
       "    birth year  gender                date  hour  daynight    borough  age  \n",
       "19         NaN       0 2016-01-01 00:09:31     0         0   Brooklyn  NaN  \n",
       "20         NaN       0 2016-01-01 00:09:55     0         0   Brooklyn  NaN  \n",
       "22         NaN       0 2016-01-01 00:10:24     0         0   Brooklyn  NaN  \n",
       "26         NaN       0 2016-01-01 00:11:15     0         0  Manhattan  NaN  \n",
       "28         NaN       0 2016-01-01 00:12:14     0         0  Manhattan  NaN  "
      ]
     },
     "execution_count": 100,
     "metadata": {},
     "output_type": "execute_result"
    }
   ],
   "source": [
    "df[df['usertype'] != 'Subscriber'].head()"
   ]
  },
  {
   "cell_type": "code",
   "execution_count": 101,
   "metadata": {
    "collapsed": false
   },
   "outputs": [],
   "source": [
    "brooklyn_riders = df[df['borough']=='Brooklyn'].age\n",
    "brooklyn_riders = brooklyn_riders.dropna()"
   ]
  },
  {
   "cell_type": "code",
   "execution_count": 102,
   "metadata": {
    "collapsed": false
   },
   "outputs": [],
   "source": [
    "manhattan_riders = df[df['borough']=='Manhattan'].age\n",
    "manhattan_riders = manhattan_riders.dropna()"
   ]
  },
  {
   "cell_type": "code",
   "execution_count": 103,
   "metadata": {
    "collapsed": false
   },
   "outputs": [
    {
     "name": "stdout",
     "output_type": "stream",
     "text": [
      "807811 853637\n"
     ]
    }
   ],
   "source": [
    "print(manhattan_riders.size, brooklyn_riders.size)"
   ]
  },
  {
   "cell_type": "markdown",
   "metadata": {},
   "source": [
    "## KS Test"
   ]
  },
  {
   "cell_type": "code",
   "execution_count": 104,
   "metadata": {
    "collapsed": false
   },
   "outputs": [
    {
     "name": "stdout",
     "output_type": "stream",
     "text": [
      "Ks_2sampResult(statistic=0.081896402402308666, pvalue=0.0)\n"
     ]
    }
   ],
   "source": [
    "ks_age = scipy.stats.ks_2samp(brooklyn_riders, manhattan_riders)\n",
    "print(ks_age)"
   ]
  },
  {
   "cell_type": "markdown",
   "metadata": {},
   "source": [
    "### Explanation:\n",
    "Similar to the explanation above, we cannot reject the null hypothesis of the ks_2samp test by the scipy package because the statistic is smaller than the value 1.36 and the p-value is actually 0%!\n",
    "\n",
    "Therefore, we can reject the null hypothesis that there is no statistical difference between the distributions."
   ]
  },
  {
   "cell_type": "code",
   "execution_count": 105,
   "metadata": {
    "collapsed": false
   },
   "outputs": [
    {
     "data": {
      "text/plain": [
       "array([ 20.,  21.,  21.,  21.,  21.,  22.,  22.,  22.,  22.,  23.,  23.,\n",
       "        23.,  24.,  24.,  24.,  25.,  25.,  25.,  26.,  26.,  26.,  26.,\n",
       "        26.,  27.,  27.,  27.,  27.,  27.,  27.,  27.,  27.,  27.,  27.,\n",
       "        27.,  28.,  28.,  28.,  28.,  29.,  29.,  29.,  29.,  29.,  29.,\n",
       "        29.,  29.,  29.,  29.,  29.,  29.,  30.,  30.,  30.,  30.,  30.,\n",
       "        30.,  30.,  30.,  30.,  31.,  31.,  31.,  31.,  31.,  31.,  31.,\n",
       "        32.,  32.,  32.,  32.,  33.,  33.,  33.,  33.,  33.,  33.,  33.,\n",
       "        33.,  33.,  33.,  33.,  33.,  33.,  34.,  34.,  34.,  34.,  34.,\n",
       "        35.,  35.,  35.,  35.,  35.,  35.,  35.,  36.,  36.,  36.,  36.,\n",
       "        36.,  36.,  36.,  36.,  37.,  37.,  37.,  37.,  37.,  37.,  37.,\n",
       "        37.,  37.,  38.,  38.,  38.,  38.,  38.,  39.,  40.,  40.,  40.,\n",
       "        40.,  40.,  40.,  41.,  41.,  41.,  41.,  41.,  42.,  42.,  43.,\n",
       "        43.,  44.,  44.,  44.,  44.,  44.,  45.,  46.,  46.,  46.,  47.,\n",
       "        47.,  47.,  48.,  48.,  48.,  48.,  48.,  48.,  48.,  49.,  49.,\n",
       "        49.,  49.,  50.,  50.,  50.,  50.,  50.,  50.,  50.,  51.,  51.,\n",
       "        52.,  52.,  52.,  52.,  52.,  52.,  52.,  54.,  54.,  54.,  55.,\n",
       "        55.,  56.,  56.,  57.,  57.,  58.,  58.,  58.,  59.,  59.,  59.,\n",
       "        59.,  61.,  61.,  62.,  62.,  63.,  63.,  64.,  64.,  65.,  65.,\n",
       "        66.,  66.])"
      ]
     },
     "execution_count": 105,
     "metadata": {},
     "output_type": "execute_result"
    }
   ],
   "source": [
    "brooklyn_200 = np.random.choice(brooklyn_riders, size=200, replace=False)\n",
    "brooklyn_200.sort()\n",
    "brooklyn_200"
   ]
  },
  {
   "cell_type": "code",
   "execution_count": 106,
   "metadata": {
    "collapsed": false
   },
   "outputs": [
    {
     "data": {
      "text/plain": [
       "array([ 18.,  21.,  22.,  23.,  24.,  24.,  24.,  24.,  25.,  25.,  25.,\n",
       "        25.,  25.,  25.,  26.,  26.,  26.,  26.,  26.,  27.,  27.,  27.,\n",
       "        27.,  27.,  28.,  28.,  28.,  29.,  29.,  29.,  29.,  29.,  29.,\n",
       "        29.,  29.,  29.,  29.,  29.,  30.,  30.,  30.,  30.,  30.,  30.,\n",
       "        30.,  31.,  31.,  31.,  31.,  31.,  31.,  31.,  31.,  31.,  32.,\n",
       "        32.,  32.,  32.,  32.,  32.,  32.,  32.,  32.,  33.,  33.,  33.,\n",
       "        33.,  33.,  33.,  33.,  33.,  33.,  33.,  33.,  34.,  34.,  34.,\n",
       "        34.,  34.,  34.,  34.,  34.,  34.,  34.,  34.,  35.,  35.,  35.,\n",
       "        35.,  35.,  35.,  35.,  35.,  35.,  35.,  36.,  36.,  36.,  36.,\n",
       "        36.,  36.,  36.,  36.,  37.,  37.,  37.,  37.,  38.,  38.,  38.,\n",
       "        38.,  38.,  38.,  39.,  40.,  40.,  40.,  40.,  40.,  41.,  41.,\n",
       "        42.,  42.,  42.,  42.,  42.,  42.,  43.,  43.,  43.,  43.,  43.,\n",
       "        43.,  43.,  43.,  43.,  44.,  44.,  44.,  44.,  45.,  45.,  45.,\n",
       "        45.,  46.,  47.,  47.,  47.,  47.,  47.,  47.,  48.,  48.,  48.,\n",
       "        48.,  48.,  48.,  48.,  49.,  49.,  49.,  49.,  50.,  50.,  50.,\n",
       "        51.,  51.,  52.,  52.,  52.,  53.,  53.,  53.,  53.,  54.,  56.,\n",
       "        56.,  56.,  57.,  57.,  57.,  58.,  58.,  59.,  59.,  59.,  60.,\n",
       "        61.,  61.,  62.,  63.,  63.,  63.,  63.,  63.,  63.,  64.,  65.,\n",
       "        67.,  75.])"
      ]
     },
     "execution_count": 106,
     "metadata": {},
     "output_type": "execute_result"
    }
   ],
   "source": [
    "manhattan_200 = np.random.choice(manhattan_riders, size=200, replace=False)\n",
    "manhattan_200.sort()\n",
    "manhattan_200"
   ]
  },
  {
   "cell_type": "markdown",
   "metadata": {},
   "source": [
    "## Pearson's Test for Correlation"
   ]
  },
  {
   "cell_type": "code",
   "execution_count": 107,
   "metadata": {
    "collapsed": false
   },
   "outputs": [
    {
     "name": "stdout",
     "output_type": "stream",
     "text": [
      "(0.99492989521386899, 1.7569412942089344e-199)\n"
     ]
    }
   ],
   "source": [
    "pearson_age = scipy.stats.pearsonr(brooklyn_200, manhattan_200)\n",
    "print(pearson_age)"
   ]
  },
  {
   "cell_type": "markdown",
   "metadata": {},
   "source": [
    "## Explanation:\n",
    "The correlation coefficient is very close to 1, which means that these 2 distributions are highly correlated and the p-value that they are not correlated is very very small.\n",
    "\n",
    "Therefore, we can confidently reject the null hypothesis that there is no statistical difference between the two distributions."
   ]
  },
  {
   "cell_type": "markdown",
   "metadata": {},
   "source": [
    "## Spearman's Test for Correlation"
   ]
  },
  {
   "cell_type": "code",
   "execution_count": 108,
   "metadata": {
    "collapsed": false
   },
   "outputs": [
    {
     "name": "stdout",
     "output_type": "stream",
     "text": [
      "SpearmanrResult(correlation=0.99863359201013191, pvalue=8.8856859710038847e-256)\n"
     ]
    }
   ],
   "source": [
    "spearman_age = scipy.stats.spearmanr(brooklyn_200, manhattan_200)\n",
    "print(spearman_age)"
   ]
  },
  {
   "cell_type": "markdown",
   "metadata": {},
   "source": [
    "## Explanation:\n",
    "Similarly to the Pearson's test, the correlation coefficient of this Spearman's test is also very close to 1, which means that these 2 distributions are highly correlated and the p-value that they are not correlated is even smaller.\n",
    "\n",
    "Therefore, we can confidently reject the null hypothesis that there is no statistical difference between the two distributions."
   ]
  }
 ],
 "metadata": {
  "anaconda-cloud": {},
  "kernelspec": {
   "display_name": "PUI2016_Python3",
   "language": "python",
   "name": "pui2016_python3"
  },
  "language_info": {
   "codemirror_mode": {
    "name": "ipython",
    "version": 3
   },
   "file_extension": ".py",
   "mimetype": "text/x-python",
   "name": "python",
   "nbconvert_exporter": "python",
   "pygments_lexer": "ipython3",
   "version": "3.5.4"
  },
  "latex_envs": {
   "LaTeX_envs_menu_present": true,
   "bibliofile": "biblio.bib",
   "cite_by": "apalike",
   "current_citInitial": 1,
   "eqLabelWithNumbers": true,
   "eqNumInitial": 1,
   "hotkeys": {
    "equation": "Ctrl-E",
    "itemize": "Ctrl-I"
   },
   "labels_anchors": false,
   "latex_user_defs": false,
   "report_style_numbering": false,
   "user_envs_cfg": false
  },
  "toc": {
   "colors": {
    "hover_highlight": "#DAA520",
    "running_highlight": "#FF0000",
    "selected_highlight": "#FFD700"
   },
   "moveMenuLeft": true,
   "nav_menu": {
    "height": "135px",
    "width": "251px"
   },
   "navigate_menu": true,
   "number_sections": true,
   "sideBar": true,
   "threshold": 4,
   "toc_cell": false,
   "toc_section_display": "block",
   "toc_window_display": false
  }
 },
 "nbformat": 4,
 "nbformat_minor": 0
}
