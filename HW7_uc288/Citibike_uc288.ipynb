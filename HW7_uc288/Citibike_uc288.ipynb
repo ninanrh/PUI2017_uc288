{
 "cells": [
  {
   "cell_type": "markdown",
   "metadata": {},
   "source": [
    "# CitiBike Data Analysis\n",
    "\n",
    "Your notebook must display\n",
    "* the complete formulation of the hypothesis to be tested\n",
    "* the data tables for the unreducted datasets (first few columns)\n",
    "* the data tables for the reducted datasets (first few columns)\n",
    "* the plots for each dataframe, with usual rules for plotting applying: visible and readable axes, title, legend, caption."
   ]
  },
  {
   "cell_type": "markdown",
   "metadata": {},
   "source": [
    "## Idea: Subscribers bike more on the weekday and Customers bike more on the weekends."
   ]
  },
  {
   "cell_type": "markdown",
   "metadata": {},
   "source": [
    "## NULL HYPOTHESIS\n",
    "### The ratio of subscribers biking on weekdays over subscribers biking on weekends is the same or lower than the ratio of customers biking on weekdays over customers biking on weekends a significance level of $\\alpha = 0.05$."
   ]
  },
  {
   "cell_type": "markdown",
   "metadata": {},
   "source": [
    "## $H_0$ : $\\frac{S_{\\mathrm{weekday}}}{S_{\\mathrm{weekend}}} <= \\frac{C_{\\mathrm{weekday}}}{C_{\\mathrm{weekend}}}$\n",
    "\n",
    "## $H_1$ : $\\frac{S_{\\mathrm{weekday}}}{S_{\\mathrm{weekend}}} > \\frac{C_{\\mathrm{weekday}}}{C_{\\mathrm{weekend}}}$"
   ]
  },
  {
   "cell_type": "code",
   "execution_count": 1,
   "metadata": {
    "collapsed": false
   },
   "outputs": [
    {
     "name": "stderr",
     "output_type": "stream",
     "text": [
      "/opt/rh/anaconda/root/envs/PUI2016_Python3/lib/python3.5/site-packages/IPython/html.py:14: ShimWarning: The `IPython.html` package has been deprecated. You should import from `notebook` instead. `IPython.html.widgets` has moved to `ipywidgets`.\n",
      "  \"`IPython.html.widgets` has moved to `ipywidgets`.\", ShimWarning)\n"
     ]
    },
    {
     "name": "stdout",
     "output_type": "stream",
     "text": [
      "Populating the interactive namespace from numpy and matplotlib\n"
     ]
    }
   ],
   "source": [
    "import numpy as np\n",
    "import pandas as pd\n",
    "import pylab as pl\n",
    "import sys\n",
    "import os\n",
    "import seaborn as sns\n",
    "from evalChisq import evalChisq\n",
    "\n",
    "%pylab inline"
   ]
  },
  {
   "cell_type": "code",
   "execution_count": 2,
   "metadata": {
    "collapsed": true
   },
   "outputs": [],
   "source": [
    "def getCitiBikeCSV(datestring):\n",
    "    '''\n",
    "    Retrieves the CitiBike CSV file given a datestring\n",
    "    and saves it in the directory specified in $PUIDATA\n",
    "    \n",
    "    Argument:\n",
    "        datestring: String in format YYYYMM\n",
    "    '''\n",
    "    \n",
    "    PUIdata = os.getenv(\"PUIDATA\")\n",
    "    \n",
    "    print (\"Downloading\", datestring)\n",
    "    \n",
    "    ### First I will check that it is not already there\n",
    "    if not os.path.isfile(PUIdata + \"/\" + datestring + \"-citibike-tripdata.csv\"):\n",
    "        if os.path.isfile(datestring + \"-citibike-tripdata.csv\"):\n",
    "            # if in the current dir just move it\n",
    "            if os.system(\"mv \" + datestring + \"-citibike-tripdata.csv \" + PUIdata):\n",
    "                print (\"Error moving file!, Please check!\")\n",
    "                \n",
    "        #otherwise start looking for the zip file\n",
    "        else:\n",
    "            if not os.path.isfile(PUIdata + \"/\" + datestring + \"-citibike-tripdata.zip\"):\n",
    "                if not os.path.isfile(datestring + \"-citibike-tripdata.zip\"):\n",
    "                    os.system(\"curl -O https://s3.amazonaws.com/tripdata/\" + datestring + \"-citibike-tripdata.zip\")\n",
    "                ###  To move it I use the os.system() functions to run bash commands with arguments\n",
    "                os.system(\"mv \" + datestring + \"-citibike-tripdata.zip \" + PUIdata)\n",
    "            ### unzip the csv \n",
    "            os.system(\"unzip \" + PUIdata + \"/\" + datestring + \"-citibike-tripdata.zip\")\n",
    "            ## NOTE: old csv citibike data had a different name structure. \n",
    "            if '2014' in datestring:\n",
    "                os.system(\"mv \" + datestring[:4] + '-' +  datestring[4:] + \n",
    "                          \"\\ -\\ Citi\\ Bike\\ trip\\ data.csv \" + datestring + \"-citibike-tripdata.csv\")\n",
    "            os.system(\"mv \" + datestring + \"-citibike-tripdata.csv \" + PUIdata)\n",
    "    \n",
    "    ### One final check:\n",
    "    if not os.path.isfile(PUIdata + \"/\" + datestring + \"-citibike-tripdata.csv\"):\n",
    "        print (\"WARNING!!! something is wrong: the file is not there!\")\n",
    "\n",
    "    else:\n",
    "        print (\"file in place, you can continue\")"
   ]
  },
  {
   "cell_type": "code",
   "execution_count": 3,
   "metadata": {
    "collapsed": false
   },
   "outputs": [
    {
     "name": "stdout",
     "output_type": "stream",
     "text": [
      "Downloading 201612\n",
      "file in place, you can continue\n"
     ]
    }
   ],
   "source": [
    "datestring = '201612'\n",
    "getCitiBikeCSV(datestring)"
   ]
  },
  {
   "cell_type": "code",
   "execution_count": 4,
   "metadata": {
    "collapsed": false
   },
   "outputs": [
    {
     "name": "stdout",
     "output_type": "stream",
     "text": [
      "/home/cusp/uc288/PUIdata\n"
     ]
    }
   ],
   "source": [
    "PUIdata = os.getenv('PUIDATA')\n",
    "print(PUIdata)"
   ]
  },
  {
   "cell_type": "markdown",
   "metadata": {},
   "source": [
    "### NOTE TO SELF: Trip duration is in SECONDS"
   ]
  },
  {
   "cell_type": "code",
   "execution_count": 5,
   "metadata": {
    "collapsed": false
   },
   "outputs": [
    {
     "data": {
      "text/html": [
       "<div>\n",
       "<table border=\"1\" class=\"dataframe\">\n",
       "  <thead>\n",
       "    <tr style=\"text-align: right;\">\n",
       "      <th></th>\n",
       "      <th>Trip Duration</th>\n",
       "      <th>Start Time</th>\n",
       "      <th>Stop Time</th>\n",
       "      <th>Start Station ID</th>\n",
       "      <th>Start Station Name</th>\n",
       "      <th>Start Station Latitude</th>\n",
       "      <th>Start Station Longitude</th>\n",
       "      <th>End Station ID</th>\n",
       "      <th>End Station Name</th>\n",
       "      <th>End Station Latitude</th>\n",
       "      <th>End Station Longitude</th>\n",
       "      <th>Bike ID</th>\n",
       "      <th>User Type</th>\n",
       "      <th>Birth Year</th>\n",
       "      <th>Gender</th>\n",
       "    </tr>\n",
       "  </thead>\n",
       "  <tbody>\n",
       "    <tr>\n",
       "      <th>0</th>\n",
       "      <td>528</td>\n",
       "      <td>2016-12-01 00:00:04</td>\n",
       "      <td>2016-12-01 00:08:52</td>\n",
       "      <td>499</td>\n",
       "      <td>Broadway &amp; W 60 St</td>\n",
       "      <td>40.769155</td>\n",
       "      <td>-73.981918</td>\n",
       "      <td>228</td>\n",
       "      <td>E 48 St &amp; 3 Ave</td>\n",
       "      <td>40.754601</td>\n",
       "      <td>-73.971879</td>\n",
       "      <td>26931</td>\n",
       "      <td>Subscriber</td>\n",
       "      <td>1964.0</td>\n",
       "      <td>1</td>\n",
       "    </tr>\n",
       "    <tr>\n",
       "      <th>1</th>\n",
       "      <td>218</td>\n",
       "      <td>2016-12-01 00:00:28</td>\n",
       "      <td>2016-12-01 00:04:06</td>\n",
       "      <td>3418</td>\n",
       "      <td>Plaza St West &amp; Flatbush Ave</td>\n",
       "      <td>40.675021</td>\n",
       "      <td>-73.971115</td>\n",
       "      <td>3358</td>\n",
       "      <td>Garfield Pl &amp; 8 Ave</td>\n",
       "      <td>40.671198</td>\n",
       "      <td>-73.974841</td>\n",
       "      <td>27122</td>\n",
       "      <td>Subscriber</td>\n",
       "      <td>1955.0</td>\n",
       "      <td>1</td>\n",
       "    </tr>\n",
       "    <tr>\n",
       "      <th>2</th>\n",
       "      <td>399</td>\n",
       "      <td>2016-12-01 00:00:39</td>\n",
       "      <td>2016-12-01 00:07:19</td>\n",
       "      <td>297</td>\n",
       "      <td>E 15 St &amp; 3 Ave</td>\n",
       "      <td>40.734232</td>\n",
       "      <td>-73.986923</td>\n",
       "      <td>345</td>\n",
       "      <td>W 13 St &amp; 6 Ave</td>\n",
       "      <td>40.736494</td>\n",
       "      <td>-73.997044</td>\n",
       "      <td>19352</td>\n",
       "      <td>Subscriber</td>\n",
       "      <td>1985.0</td>\n",
       "      <td>1</td>\n",
       "    </tr>\n",
       "    <tr>\n",
       "      <th>3</th>\n",
       "      <td>254</td>\n",
       "      <td>2016-12-01 00:00:44</td>\n",
       "      <td>2016-12-01 00:04:59</td>\n",
       "      <td>405</td>\n",
       "      <td>Washington St &amp; Gansevoort St</td>\n",
       "      <td>40.739323</td>\n",
       "      <td>-74.008119</td>\n",
       "      <td>358</td>\n",
       "      <td>Christopher St &amp; Greenwich St</td>\n",
       "      <td>40.732916</td>\n",
       "      <td>-74.007114</td>\n",
       "      <td>20015</td>\n",
       "      <td>Subscriber</td>\n",
       "      <td>1982.0</td>\n",
       "      <td>1</td>\n",
       "    </tr>\n",
       "    <tr>\n",
       "      <th>4</th>\n",
       "      <td>1805</td>\n",
       "      <td>2016-12-01 00:00:54</td>\n",
       "      <td>2016-12-01 00:31:00</td>\n",
       "      <td>279</td>\n",
       "      <td>Peck Slip &amp; Front St</td>\n",
       "      <td>40.707873</td>\n",
       "      <td>-74.001670</td>\n",
       "      <td>279</td>\n",
       "      <td>Peck Slip &amp; Front St</td>\n",
       "      <td>40.707873</td>\n",
       "      <td>-74.001670</td>\n",
       "      <td>23148</td>\n",
       "      <td>Subscriber</td>\n",
       "      <td>1989.0</td>\n",
       "      <td>1</td>\n",
       "    </tr>\n",
       "  </tbody>\n",
       "</table>\n",
       "</div>"
      ],
      "text/plain": [
       "   Trip Duration          Start Time           Stop Time  Start Station ID  \\\n",
       "0            528 2016-12-01 00:00:04 2016-12-01 00:08:52               499   \n",
       "1            218 2016-12-01 00:00:28 2016-12-01 00:04:06              3418   \n",
       "2            399 2016-12-01 00:00:39 2016-12-01 00:07:19               297   \n",
       "3            254 2016-12-01 00:00:44 2016-12-01 00:04:59               405   \n",
       "4           1805 2016-12-01 00:00:54 2016-12-01 00:31:00               279   \n",
       "\n",
       "              Start Station Name  Start Station Latitude  \\\n",
       "0             Broadway & W 60 St               40.769155   \n",
       "1   Plaza St West & Flatbush Ave               40.675021   \n",
       "2                E 15 St & 3 Ave               40.734232   \n",
       "3  Washington St & Gansevoort St               40.739323   \n",
       "4           Peck Slip & Front St               40.707873   \n",
       "\n",
       "   Start Station Longitude  End Station ID               End Station Name  \\\n",
       "0               -73.981918             228                E 48 St & 3 Ave   \n",
       "1               -73.971115            3358            Garfield Pl & 8 Ave   \n",
       "2               -73.986923             345                W 13 St & 6 Ave   \n",
       "3               -74.008119             358  Christopher St & Greenwich St   \n",
       "4               -74.001670             279           Peck Slip & Front St   \n",
       "\n",
       "   End Station Latitude  End Station Longitude  Bike ID   User Type  \\\n",
       "0             40.754601             -73.971879    26931  Subscriber   \n",
       "1             40.671198             -73.974841    27122  Subscriber   \n",
       "2             40.736494             -73.997044    19352  Subscriber   \n",
       "3             40.732916             -74.007114    20015  Subscriber   \n",
       "4             40.707873             -74.001670    23148  Subscriber   \n",
       "\n",
       "   Birth Year  Gender  \n",
       "0      1964.0       1  \n",
       "1      1955.0       1  \n",
       "2      1985.0       1  \n",
       "3      1982.0       1  \n",
       "4      1989.0       1  "
      ]
     },
     "execution_count": 5,
     "metadata": {},
     "output_type": "execute_result"
    }
   ],
   "source": [
    "data = pd.read_csv(PUIdata + '/' + datestring + '-citibike-tripdata.csv', \n",
    "                   infer_datetime_format=True,\n",
    "                   parse_dates=['Start Time', 'Stop Time'])\n",
    "data.head()"
   ]
  },
  {
   "cell_type": "code",
   "execution_count": 6,
   "metadata": {
    "collapsed": false
   },
   "outputs": [
    {
     "data": {
      "text/plain": [
       "Index(['Trip Duration', 'Start Time', 'Stop Time', 'Start Station ID',\n",
       "       'Start Station Name', 'Start Station Latitude',\n",
       "       'Start Station Longitude', 'End Station ID', 'End Station Name',\n",
       "       'End Station Latitude', 'End Station Longitude', 'Bike ID', 'User Type',\n",
       "       'Birth Year', 'Gender'],\n",
       "      dtype='object')"
      ]
     },
     "execution_count": 6,
     "metadata": {},
     "output_type": "execute_result"
    }
   ],
   "source": [
    "data.columns"
   ]
  },
  {
   "cell_type": "code",
   "execution_count": 7,
   "metadata": {
    "collapsed": false
   },
   "outputs": [],
   "source": [
    "data.drop([u'Trip Duration', u'Stop Time', u'Start Station ID',\n",
    "       u'Start Station Name', u'Start Station Latitude',\n",
    "       u'Start Station Longitude', u'End Station ID', u'End Station Name',\n",
    "       u'End Station Latitude', u'End Station Longitude', u'Bike ID',\n",
    "       u'Birth Year', u'Gender'], axis=1, inplace=True)"
   ]
  },
  {
   "cell_type": "code",
   "execution_count": 8,
   "metadata": {
    "collapsed": false
   },
   "outputs": [],
   "source": [
    "data.rename(columns={'Start Time': 'date', 'User Type': 'usertype'}, inplace=True)"
   ]
  },
  {
   "cell_type": "code",
   "execution_count": 9,
   "metadata": {
    "collapsed": false
   },
   "outputs": [
    {
     "data": {
      "text/html": [
       "<div>\n",
       "<table border=\"1\" class=\"dataframe\">\n",
       "  <thead>\n",
       "    <tr style=\"text-align: right;\">\n",
       "      <th></th>\n",
       "      <th>date</th>\n",
       "      <th>usertype</th>\n",
       "    </tr>\n",
       "  </thead>\n",
       "  <tbody>\n",
       "    <tr>\n",
       "      <th>0</th>\n",
       "      <td>2016-12-01 00:00:04</td>\n",
       "      <td>Subscriber</td>\n",
       "    </tr>\n",
       "    <tr>\n",
       "      <th>1</th>\n",
       "      <td>2016-12-01 00:00:28</td>\n",
       "      <td>Subscriber</td>\n",
       "    </tr>\n",
       "    <tr>\n",
       "      <th>2</th>\n",
       "      <td>2016-12-01 00:00:39</td>\n",
       "      <td>Subscriber</td>\n",
       "    </tr>\n",
       "    <tr>\n",
       "      <th>3</th>\n",
       "      <td>2016-12-01 00:00:44</td>\n",
       "      <td>Subscriber</td>\n",
       "    </tr>\n",
       "    <tr>\n",
       "      <th>4</th>\n",
       "      <td>2016-12-01 00:00:54</td>\n",
       "      <td>Subscriber</td>\n",
       "    </tr>\n",
       "  </tbody>\n",
       "</table>\n",
       "</div>"
      ],
      "text/plain": [
       "                 date    usertype\n",
       "0 2016-12-01 00:00:04  Subscriber\n",
       "1 2016-12-01 00:00:28  Subscriber\n",
       "2 2016-12-01 00:00:39  Subscriber\n",
       "3 2016-12-01 00:00:44  Subscriber\n",
       "4 2016-12-01 00:00:54  Subscriber"
      ]
     },
     "execution_count": 9,
     "metadata": {},
     "output_type": "execute_result"
    }
   ],
   "source": [
    "data.head()"
   ]
  },
  {
   "cell_type": "code",
   "execution_count": 10,
   "metadata": {
    "collapsed": false
   },
   "outputs": [
    {
     "data": {
      "text/html": [
       "<div>\n",
       "<table border=\"1\" class=\"dataframe\">\n",
       "  <thead>\n",
       "    <tr style=\"text-align: right;\">\n",
       "      <th></th>\n",
       "      <th>date</th>\n",
       "      <th>usertype</th>\n",
       "    </tr>\n",
       "  </thead>\n",
       "  <tbody>\n",
       "    <tr>\n",
       "      <th>0</th>\n",
       "      <td>2016-12-01 00:00:04</td>\n",
       "      <td>1.0</td>\n",
       "    </tr>\n",
       "    <tr>\n",
       "      <th>1</th>\n",
       "      <td>2016-12-01 00:00:28</td>\n",
       "      <td>1.0</td>\n",
       "    </tr>\n",
       "    <tr>\n",
       "      <th>2</th>\n",
       "      <td>2016-12-01 00:00:39</td>\n",
       "      <td>1.0</td>\n",
       "    </tr>\n",
       "    <tr>\n",
       "      <th>3</th>\n",
       "      <td>2016-12-01 00:00:44</td>\n",
       "      <td>1.0</td>\n",
       "    </tr>\n",
       "    <tr>\n",
       "      <th>4</th>\n",
       "      <td>2016-12-01 00:00:54</td>\n",
       "      <td>1.0</td>\n",
       "    </tr>\n",
       "  </tbody>\n",
       "</table>\n",
       "</div>"
      ],
      "text/plain": [
       "                 date  usertype\n",
       "0 2016-12-01 00:00:04       1.0\n",
       "1 2016-12-01 00:00:28       1.0\n",
       "2 2016-12-01 00:00:39       1.0\n",
       "3 2016-12-01 00:00:44       1.0\n",
       "4 2016-12-01 00:00:54       1.0"
      ]
     },
     "execution_count": 10,
     "metadata": {},
     "output_type": "execute_result"
    }
   ],
   "source": [
    "data.usertype = data.usertype.replace('Subscriber', 1)\n",
    "data.usertype = data.usertype.replace('Customer', 0)\n",
    "data.head()"
   ]
  },
  {
   "cell_type": "markdown",
   "metadata": {},
   "source": [
    "### Separating customer (\\_c) and subscriber (\\_w) to test the hypothesis.\n",
    "\n",
    "#### User Type (Customer = 24-hour pass or 3-day pass user; Subscriber = Annual Member)"
   ]
  },
  {
   "cell_type": "code",
   "execution_count": 11,
   "metadata": {
    "collapsed": true
   },
   "outputs": [],
   "source": [
    "counts_c = data['date'][data['usertype'] == 0].groupby([data['date'].dt.weekday]).count()\n",
    "counts_s = data['date'][data['usertype'] == 1].groupby([data['date'].dt.weekday]).count()"
   ]
  },
  {
   "cell_type": "code",
   "execution_count": 12,
   "metadata": {
    "collapsed": false
   },
   "outputs": [
    {
     "data": {
      "text/plain": [
       "pandas.core.series.Series"
      ]
     },
     "execution_count": 12,
     "metadata": {},
     "output_type": "execute_result"
    }
   ],
   "source": [
    "type(counts_c)"
   ]
  },
  {
   "cell_type": "code",
   "execution_count": 13,
   "metadata": {
    "collapsed": false
   },
   "outputs": [
    {
     "data": {
      "text/plain": [
       "<matplotlib.legend.Legend at 0x7fcd63411080>"
      ]
     },
     "execution_count": 13,
     "metadata": {},
     "output_type": "execute_result"
    },
    {
     "data": {
      "image/png": "[encoded data removed]",
      "text/plain": [
       "<matplotlib.figure.Figure at 0x7fcd63409f98>"
      ]
     },
     "metadata": {},
     "output_type": "display_data"
    }
   ],
   "source": [
    "fig = pl.figure(figsize(8,8))\n",
    "norm_c = 1\n",
    "norm_s = 1\n",
    "\n",
    "ax = ((counts_c)/norm_c).plot(kind='bar', color='IndianRed', label='customer')\n",
    "ax = ((counts_s)/norm_s).plot(kind='bar', color='SteelBlue', label='subscriber', alpha=0.4)\n",
    "\n",
    "ax.xaxis.set_ticklabels(['Mon', 'Tue', 'Wed', 'Thu', 'Fri', 'Sat', 'Sun'], fontsize=15)\n",
    "ax.set_xlabel('Day of the week', fontsize=15)\n",
    "ax.set_ylabel('Number of riders', fontsize=15)\n",
    "ax.set_title('Distribution of Citibike Users by User Type in December 2016', fontsize=15)\n",
    "pl.legend(['customer','subscriber'],fontsize=15)"
   ]
  },
  {
   "cell_type": "markdown",
   "metadata": {
    "collapsed": false
   },
   "source": [
    "## Figure 1. Distribution of Citibike users by user type in December 2016, absolute counts\n",
    "Based from the absolute counts, it can be seen that there seems to be more subscribers over than customers daily. However, it can also be seen that there is a decrease in the number of subscribers using the CitiBike on weekends."
   ]
  },
  {
   "cell_type": "markdown",
   "metadata": {},
   "source": [
    "#### For N counts, the error is $\\sqrt{N}$, because counts follow a Poisson statistic"
   ]
  },
  {
   "cell_type": "code",
   "execution_count": 14,
   "metadata": {
    "collapsed": false
   },
   "outputs": [
    {
     "data": {
      "text/plain": [
       "<matplotlib.legend.Legend at 0x7fcd5c4084a8>"
      ]
     },
     "execution_count": 14,
     "metadata": {},
     "output_type": "execute_result"
    },
    {
     "data": {
      "image/png": "[encoded data removed]",
      "text/plain": [
       "<matplotlib.figure.Figure at 0x7fcd63411668>"
      ]
     },
     "metadata": {},
     "output_type": "display_data"
    }
   ],
   "source": [
    "fig = pl.figure(figsize(8,8))\n",
    "\n",
    "norm_c = 1\n",
    "error_c = np.sqrt(counts_c)\n",
    "ax = ((counts_c) / norm_c).plot(kind=\"bar\", color='IndianRed', label='customer',\n",
    "                               yerr=[((error_c) / norm_c, (error_c) / norm_c)])\n",
    "\n",
    "norm_s = 1\n",
    "error_s = np.sqrt(counts_s)\n",
    "ax = ((counts_s) / norm_s).plot(kind=\"bar\", color='SteelBlue', alpha=0.5, label='subscriber',\n",
    "                               yerr=[((error_s) / norm_s, (error_s) / norm_s)])\n",
    "\n",
    "ax.xaxis.set_ticklabels(['Mon','Tue','Wed','Thu','Fri','Sat','Sun'], fontsize=15)\n",
    "ax.set_ylabel (\"Number of rides\", fontsize=15)\n",
    "ax.set_xlabel (\"Day of the week\", fontsize=15)\n",
    "ax.set_title('Distribution of Citibike Users by User Type in December 2016 with Statistical Errors', fontsize=15)\n",
    "pl.legend(['customer','subscriber'],fontsize=15)"
   ]
  },
  {
   "cell_type": "markdown",
   "metadata": {},
   "source": [
    "## Figure 2. Distribution of Citibike users by user type in December 2016, absolute counts, with statistical errors\n",
    "There's not much difference from Figure 1, except the statistical errors are included in this plot."
   ]
  },
  {
   "cell_type": "code",
   "execution_count": 15,
   "metadata": {
    "collapsed": false
   },
   "outputs": [
    {
     "data": {
      "text/plain": [
       "<matplotlib.legend.Legend at 0x7fcd618894a8>"
      ]
     },
     "execution_count": 15,
     "metadata": {},
     "output_type": "execute_result"
    },
    {
     "data": {
      "image/png": "[encoded data removed]",
      "text/plain": [
       "<matplotlib.figure.Figure at 0x7fcd906d0940>"
      ]
     },
     "metadata": {},
     "output_type": "display_data"
    }
   ],
   "source": [
    "fig = pl.figure(figsize(8,8))\n",
    "\n",
    "norm_c = counts_c.sum()\n",
    "ax = ((counts_c) / norm_c).plot(kind=\"bar\", color='IndianRed', label='customer',\n",
    "                               yerr=[((error_c) / norm_c, (error_c) / norm_c)])\n",
    "\n",
    "norm_s = counts_s.sum()\n",
    "ax = ((counts_s) / norm_s).plot(kind=\"bar\", color='SteelBlue', alpha=0.5, \n",
    "                                label='subscriber', yerr=[((error_s) / norm_s, (error_s) / norm_s)])\n",
    "\n",
    "ax.xaxis.set_ticklabels(['Mon','Tue','Wed','Thu','Fri','Sat','Sun'], fontsize=15)\n",
    "ax.set_ylabel (\"Fraction of rides\", fontsize=15)\n",
    "ax.set_xlabel (\"Day of the week\", fontsize=15)\n",
    "ax.set_title(\"Normalised Distribution of Citibike Users by User Type for December 2016\", fontsize=15)\n",
    "pl.legend(['customer','subscriber'],fontsize=15)"
   ]
  },
  {
   "cell_type": "markdown",
   "metadata": {},
   "source": [
    "## Figure 3. Distribution of Citibike users by user type in December 2016, normalized\n",
    "Now that the data is normalized, we can clearly see that there are more subscribers than customers out during the weekdays and that there are more customers than subscribers on the weekends."
   ]
  },
  {
   "cell_type": "code",
   "execution_count": 16,
   "metadata": {
    "collapsed": false
   },
   "outputs": [
    {
     "data": {
      "text/plain": [
       "date\n",
       "0    0.090973\n",
       "1    0.142655\n",
       "2    0.124854\n",
       "3    0.095862\n",
       "4    0.160733\n",
       "Name: date, dtype: float64"
      ]
     },
     "execution_count": 16,
     "metadata": {},
     "output_type": "execute_result"
    }
   ],
   "source": [
    "weekday_c = ((counts_c) / norm_c)[:-2]\n",
    "weekday_c"
   ]
  },
  {
   "cell_type": "code",
   "execution_count": 17,
   "metadata": {
    "collapsed": false
   },
   "outputs": [
    {
     "data": {
      "text/plain": [
       "date\n",
       "5    0.184806\n",
       "6    0.200117\n",
       "Name: date, dtype: float64"
      ]
     },
     "execution_count": 17,
     "metadata": {},
     "output_type": "execute_result"
    }
   ],
   "source": [
    "weekend_c = ((counts_c) / norm_c)[-2:]\n",
    "weekend_c"
   ]
  },
  {
   "cell_type": "code",
   "execution_count": 18,
   "metadata": {
    "collapsed": false
   },
   "outputs": [
    {
     "data": {
      "text/plain": [
       "0.63916932907348245"
      ]
     },
     "execution_count": 18,
     "metadata": {},
     "output_type": "execute_result"
    }
   ],
   "source": [
    "ratio_c = np.mean(weekday_c) / np.mean(weekend_c)\n",
    "ratio_c"
   ]
  },
  {
   "cell_type": "code",
   "execution_count": 19,
   "metadata": {
    "collapsed": false
   },
   "outputs": [
    {
     "data": {
      "text/plain": [
       "date\n",
       "0    0.126514\n",
       "1    0.155774\n",
       "2    0.161775\n",
       "3    0.191483\n",
       "4    0.183432\n",
       "Name: date, dtype: float64"
      ]
     },
     "execution_count": 19,
     "metadata": {},
     "output_type": "execute_result"
    }
   ],
   "source": [
    "weekday_s = ((counts_s) / norm_s)[:-2]\n",
    "weekday_s"
   ]
  },
  {
   "cell_type": "code",
   "execution_count": 20,
   "metadata": {
    "collapsed": false
   },
   "outputs": [
    {
     "data": {
      "text/plain": [
       "date\n",
       "5    0.098379\n",
       "6    0.082643\n",
       "Name: date, dtype: float64"
      ]
     },
     "execution_count": 20,
     "metadata": {},
     "output_type": "execute_result"
    }
   ],
   "source": [
    "weekend_s = ((counts_s) / norm_s)[-2:]\n",
    "weekend_s"
   ]
  },
  {
   "cell_type": "code",
   "execution_count": 21,
   "metadata": {
    "collapsed": false
   },
   "outputs": [
    {
     "data": {
      "text/plain": [
       "1.8096659579629291"
      ]
     },
     "execution_count": 21,
     "metadata": {},
     "output_type": "execute_result"
    }
   ],
   "source": [
    "ratio_s = np.mean(weekday_s) / np.mean(weekend_s)\n",
    "ratio_s"
   ]
  },
  {
   "cell_type": "markdown",
   "metadata": {},
   "source": [
    "## NULL HYPOTHESIS\n",
    "### The ratio of subscribers biking on weekdays over subscribers biking on weekends is the same or lower than the ratio of customers biking on weekdays over customers biking on weekends a significance level of $\\alpha = 0.05$."
   ]
  },
  {
   "cell_type": "markdown",
   "metadata": {},
   "source": [
    "## $H_0$ : $\\frac{S_{\\mathrm{weekday}}}{S_{\\mathrm{weekend}}} <= \\frac{C_{\\mathrm{weekday}}}{C_{\\mathrm{weekend}}}$\n",
    "\n",
    "## $H_1$ : $\\frac{S_{\\mathrm{weekday}}}{S_{\\mathrm{weekend}}} > \\frac{C_{\\mathrm{weekday}}}{C_{\\mathrm{weekend}}}$"
   ]
  },
  {
   "cell_type": "code",
   "execution_count": 22,
   "metadata": {
    "collapsed": false
   },
   "outputs": [
    {
     "name": "stdout",
     "output_type": "stream",
     "text": [
      "The ratio of subscribers biking on weekdays over subscribers biking on weekends is 1.809665957962929\n",
      "The ratio of customers bikinhg on weekdays over customers biking on weekends is 0.6391693290734825\n"
     ]
    }
   ],
   "source": [
    "print('The ratio of subscribers biking on weekdays over subscribers biking on weekends is {}'.format(ratio_s))\n",
    "print('The ratio of customers bikinhg on weekdays over customers biking on weekends is {}'.format(ratio_c))"
   ]
  },
  {
   "cell_type": "markdown",
   "metadata": {},
   "source": [
    "## Based on the values, we can say the ratio of subscribers is HIGER than the ratio of customers\n",
    "## $\\frac{S_{\\mathrm{weekday}}}{S_{\\mathrm{weekend}}} = 1.80966595796$\n",
    "## $\\frac{C_{\\mathrm{weekday}}}{C_{\\mathrm{weekend}}} = 0.639169329073$\n",
    "\n",
    "## Is it significantly enough?"
   ]
  },
  {
   "cell_type": "markdown",
   "metadata": {},
   "source": [
    "---"
   ]
  },
  {
   "cell_type": "markdown",
   "metadata": {},
   "source": [
    "# Set up the test of proportions"
   ]
  },
  {
   "cell_type": "code",
   "execution_count": 23,
   "metadata": {
    "collapsed": false
   },
   "outputs": [],
   "source": [
    "week_s = sum(counts_s[:-2]) * 1.0 / norm_s\n",
    "weekend_s = sum(counts_s[-2:]) * 1.0 / norm_s\n",
    "\n",
    "eweek_s = np.sqrt(sum(error_s[:-2]**2)) / norm_s\n",
    "eweekend_s = np.sqrt(sum(error_s[-2:]**2)) / norm_s\n",
    "\n",
    "week_c = sum(counts_c[:-2]) * 1.0 / norm_c\n",
    "weekend_c = sum(counts_c[-2:]) * 1.0 / norm_c\n",
    "\n",
    "eweek_c = np.sqrt(sum(error_c[:-2]**2)) / norm_c\n",
    "eweekend_c = np.sqrt(sum(error_c[-2:]**2)) / norm_c"
   ]
  },
  {
   "cell_type": "code",
   "execution_count": 24,
   "metadata": {
    "collapsed": false
   },
   "outputs": [
    {
     "name": "stdout",
     "output_type": "stream",
     "text": [
      "Subrscriber: week:0.8190, weekend:0.1810, weekend error:0.0010, weekend error:0.0005\n",
      "Customer: week:0.6151, weekend:0.3849, weekend error:0.0043, weekend error:0.0034\n"
     ]
    }
   ],
   "source": [
    "print(\"Subrscriber: week:{0:.4f}, weekend:{1:.4f}, weekend error:{2:.4f}, weekend error:{3:.4f}\"\\\n",
    "      .format(week_s, weekend_s, eweek_s, eweekend_s))\n",
    "print(\"Customer: week:{0:.4f}, weekend:{1:.4f}, weekend error:{2:.4f}, weekend error:{3:.4f}\"\\\n",
    "      .format(week_c, weekend_c, eweek_c, eweekend_c))"
   ]
  },
  {
   "cell_type": "code",
   "execution_count": 25,
   "metadata": {
    "collapsed": false
   },
   "outputs": [
    {
     "data": {
      "text/plain": [
       "<matplotlib.legend.Legend at 0x7fcd5cb5f518>"
      ]
     },
     "execution_count": 25,
     "metadata": {},
     "output_type": "execute_result"
    },
    {
     "data": {
      "image/png": "[encoded data removed]",
      "text/plain": [
       "<matplotlib.figure.Figure at 0x7fcd5b18ee80>"
      ]
     },
     "metadata": {},
     "output_type": "display_data"
    }
   ],
   "source": [
    "fig = pl.figure(figsize(15,6))\n",
    "ax1 = fig.add_subplot(121)\n",
    "ax2 = fig.add_subplot(122)\n",
    "ax1.set_xticks([])\n",
    "ax2.set_xticks([])\n",
    "\n",
    "ax1.errorbar([0.4], [week_s], yerr=[eweek_s], fmt='o', label='subscriber')\n",
    "ax1.errorbar([0.1], [week_c], yerr=[eweek_c], fmt='o', label='customer')\n",
    "ax1.set_xlim(0, 0.5)\n",
    "ax2.errorbar([0.4], [weekend_s], yerr=[eweekend_s], fmt='o', label='subscriber')\n",
    "ax2.errorbar([0.1], [weekend_c], yerr=[eweekend_c], fmt='o', label='customer')\n",
    "ax1.set_xlim(0, 0.5)\n",
    "ax1.set_title(\"week days\")\n",
    "ax2.set_title(\"weekends\")\n",
    "ax2.set_ylabel(\"Fraction of normalized rides by customer type\")\n",
    "ax1.set_ylabel(\"Fraction of normalized rides by customer type\")\n",
    "\n",
    "pl.xlim(-0.5, 1.5)\n",
    "pl.legend(fontsize = 20)"
   ]
  },
  {
   "cell_type": "markdown",
   "metadata": {},
   "source": [
    "## Figure 4. Fraction of Citibike bikers per customer type in December 2016 for weekdays (left) and weekends (right)"
   ]
  },
  {
   "cell_type": "code",
   "execution_count": 26,
   "metadata": {
    "collapsed": false,
    "scrolled": false
   },
   "outputs": [
    {
     "name": "stdout",
     "output_type": "stream",
     "text": [
      "[[ 634116.  140162.]\n",
      " [  20006.   12520.]]\n"
     ]
    }
   ],
   "source": [
    "sample_values = np.array([[week_s * norm_s, weekend_s * norm_s],[week_c * norm_c, weekend_c * norm_c]])\n",
    "print(sample_values)"
   ]
  },
  {
   "cell_type": "markdown",
   "metadata": {},
   "source": [
    "| User Type       |      weekday     |     weekend     |                   \n",
    "|-----------------|------------------|-----------------|---------|\n",
    "| Subscriber      | 0.819 * 774,278  | 0.181 * 774,278 | 774,278 |\n",
    "| Customer        | 0.615 *  32,526  | 0.385 *  32,526 |  32,526 |\n",
    "|                 |                  |                 |         |\n",
    "| TOTAL           |    654,122       |     152,682     | 806,804 |"
   ]
  },
  {
   "cell_type": "code",
   "execution_count": 27,
   "metadata": {
    "collapsed": false
   },
   "outputs": [],
   "source": [
    "chisq = evalChisq(sample_values)"
   ]
  },
  {
   "cell_type": "code",
   "execution_count": 28,
   "metadata": {
    "collapsed": false
   },
   "outputs": [
    {
     "name": "stdout",
     "output_type": "stream",
     "text": [
      "chi sq statistics for user type ridership on weekdays vs weekends: chisq = 8458.307, DOF = 1\n"
     ]
    }
   ],
   "source": [
    "# degrees of freedom: Nvar - 1 \n",
    "DOF = len(sample_values) - 1\n",
    "print ('chi sq statistics for user type ridership on weekdays vs weekends: '+\n",
    "       'chisq = {:.3f}, DOF = {:d}'.format(chisq, DOF))"
   ]
  },
  {
   "cell_type": "code",
   "execution_count": 29,
   "metadata": {
    "collapsed": false
   },
   "outputs": [
    {
     "name": "stdout",
     "output_type": "stream",
     "text": [
      "The null hypothesis that subscribers bike more on the weekends and customers bike more on weekdays\n",
      "can be rejected at alpha = 0.05\n",
      "with a chi square statistics of 8458.31\n"
     ]
    }
   ],
   "source": [
    "chi_minalpha95 = 3.84\n",
    "print (\"The null hypothesis that subscribers bike more on the weekends and customers bike more on weekdays\")\n",
    "if chisq > chi_minalpha95 :\n",
    "    print (\"can be rejected at alpha = 0.05\")\n",
    "else: \n",
    "    print (\"cannot be rejected (p<0.05)\")\n",
    "print (\"with a chi square statistics of {:.2f}\".format(chisq))\n"
   ]
  },
  {
   "cell_type": "markdown",
   "metadata": {},
   "source": [
    "---"
   ]
  },
  {
   "cell_type": "markdown",
   "metadata": {},
   "source": [
    "---"
   ]
  },
  {
   "cell_type": "markdown",
   "metadata": {},
   "source": [
    "# Testing on a warmer month"
   ]
  },
  {
   "cell_type": "code",
   "execution_count": 30,
   "metadata": {
    "collapsed": false,
    "scrolled": true
   },
   "outputs": [
    {
     "name": "stdout",
     "output_type": "stream",
     "text": [
      "Downloading 201607\n",
      "file in place, you can continue\n"
     ]
    }
   ],
   "source": [
    "datestring = '201607'\n",
    "getCitiBikeCSV(datestring)"
   ]
  },
  {
   "cell_type": "code",
   "execution_count": 31,
   "metadata": {
    "collapsed": false
   },
   "outputs": [
    {
     "data": {
      "text/html": [
       "<div>\n",
       "<table border=\"1\" class=\"dataframe\">\n",
       "  <thead>\n",
       "    <tr style=\"text-align: right;\">\n",
       "      <th></th>\n",
       "      <th>tripduration</th>\n",
       "      <th>starttime</th>\n",
       "      <th>stoptime</th>\n",
       "      <th>start station id</th>\n",
       "      <th>start station name</th>\n",
       "      <th>start station latitude</th>\n",
       "      <th>start station longitude</th>\n",
       "      <th>end station id</th>\n",
       "      <th>end station name</th>\n",
       "      <th>end station latitude</th>\n",
       "      <th>end station longitude</th>\n",
       "      <th>bikeid</th>\n",
       "      <th>usertype</th>\n",
       "      <th>birth year</th>\n",
       "      <th>gender</th>\n",
       "    </tr>\n",
       "  </thead>\n",
       "  <tbody>\n",
       "    <tr>\n",
       "      <th>0</th>\n",
       "      <td>704</td>\n",
       "      <td>2016-07-01 00:00:02</td>\n",
       "      <td>2016-07-01 00:11:47</td>\n",
       "      <td>459</td>\n",
       "      <td>W 20 St &amp; 11 Ave</td>\n",
       "      <td>40.746745</td>\n",
       "      <td>-74.007756</td>\n",
       "      <td>347</td>\n",
       "      <td>Greenwich St &amp; W Houston St</td>\n",
       "      <td>40.728846</td>\n",
       "      <td>-74.008591</td>\n",
       "      <td>17431</td>\n",
       "      <td>Customer</td>\n",
       "      <td>NaN</td>\n",
       "      <td>0</td>\n",
       "    </tr>\n",
       "    <tr>\n",
       "      <th>1</th>\n",
       "      <td>492</td>\n",
       "      <td>2016-07-01 00:00:18</td>\n",
       "      <td>2016-07-01 00:08:31</td>\n",
       "      <td>293</td>\n",
       "      <td>Lafayette St &amp; E 8 St</td>\n",
       "      <td>40.730287</td>\n",
       "      <td>-73.990765</td>\n",
       "      <td>466</td>\n",
       "      <td>W 25 St &amp; 6 Ave</td>\n",
       "      <td>40.743954</td>\n",
       "      <td>-73.991449</td>\n",
       "      <td>24159</td>\n",
       "      <td>Subscriber</td>\n",
       "      <td>1984.0</td>\n",
       "      <td>1</td>\n",
       "    </tr>\n",
       "    <tr>\n",
       "      <th>2</th>\n",
       "      <td>191</td>\n",
       "      <td>2016-07-01 00:00:19</td>\n",
       "      <td>2016-07-01 00:03:31</td>\n",
       "      <td>3090</td>\n",
       "      <td>N 8 St &amp; Driggs Ave</td>\n",
       "      <td>40.717746</td>\n",
       "      <td>-73.956001</td>\n",
       "      <td>3107</td>\n",
       "      <td>Bedford Ave &amp; Nassau Ave</td>\n",
       "      <td>40.723117</td>\n",
       "      <td>-73.952123</td>\n",
       "      <td>16345</td>\n",
       "      <td>Subscriber</td>\n",
       "      <td>1986.0</td>\n",
       "      <td>2</td>\n",
       "    </tr>\n",
       "    <tr>\n",
       "      <th>3</th>\n",
       "      <td>687</td>\n",
       "      <td>2016-07-01 00:00:24</td>\n",
       "      <td>2016-07-01 00:11:52</td>\n",
       "      <td>459</td>\n",
       "      <td>W 20 St &amp; 11 Ave</td>\n",
       "      <td>40.746745</td>\n",
       "      <td>-74.007756</td>\n",
       "      <td>347</td>\n",
       "      <td>Greenwich St &amp; W Houston St</td>\n",
       "      <td>40.728846</td>\n",
       "      <td>-74.008591</td>\n",
       "      <td>25210</td>\n",
       "      <td>Customer</td>\n",
       "      <td>NaN</td>\n",
       "      <td>0</td>\n",
       "    </tr>\n",
       "    <tr>\n",
       "      <th>4</th>\n",
       "      <td>609</td>\n",
       "      <td>2016-07-01 00:00:31</td>\n",
       "      <td>2016-07-01 00:10:40</td>\n",
       "      <td>284</td>\n",
       "      <td>Greenwich Ave &amp; 8 Ave</td>\n",
       "      <td>40.739017</td>\n",
       "      <td>-74.002638</td>\n",
       "      <td>212</td>\n",
       "      <td>W 16 St &amp; The High Line</td>\n",
       "      <td>40.743349</td>\n",
       "      <td>-74.006818</td>\n",
       "      <td>15514</td>\n",
       "      <td>Customer</td>\n",
       "      <td>NaN</td>\n",
       "      <td>0</td>\n",
       "    </tr>\n",
       "  </tbody>\n",
       "</table>\n",
       "</div>"
      ],
      "text/plain": [
       "   tripduration           starttime            stoptime  start station id  \\\n",
       "0           704 2016-07-01 00:00:02 2016-07-01 00:11:47               459   \n",
       "1           492 2016-07-01 00:00:18 2016-07-01 00:08:31               293   \n",
       "2           191 2016-07-01 00:00:19 2016-07-01 00:03:31              3090   \n",
       "3           687 2016-07-01 00:00:24 2016-07-01 00:11:52               459   \n",
       "4           609 2016-07-01 00:00:31 2016-07-01 00:10:40               284   \n",
       "\n",
       "      start station name  start station latitude  start station longitude  \\\n",
       "0       W 20 St & 11 Ave               40.746745               -74.007756   \n",
       "1  Lafayette St & E 8 St               40.730287               -73.990765   \n",
       "2    N 8 St & Driggs Ave               40.717746               -73.956001   \n",
       "3       W 20 St & 11 Ave               40.746745               -74.007756   \n",
       "4  Greenwich Ave & 8 Ave               40.739017               -74.002638   \n",
       "\n",
       "   end station id             end station name  end station latitude  \\\n",
       "0             347  Greenwich St & W Houston St             40.728846   \n",
       "1             466              W 25 St & 6 Ave             40.743954   \n",
       "2            3107     Bedford Ave & Nassau Ave             40.723117   \n",
       "3             347  Greenwich St & W Houston St             40.728846   \n",
       "4             212      W 16 St & The High Line             40.743349   \n",
       "\n",
       "   end station longitude  bikeid    usertype  birth year  gender  \n",
       "0             -74.008591   17431    Customer         NaN       0  \n",
       "1             -73.991449   24159  Subscriber      1984.0       1  \n",
       "2             -73.952123   16345  Subscriber      1986.0       2  \n",
       "3             -74.008591   25210    Customer         NaN       0  \n",
       "4             -74.006818   15514    Customer         NaN       0  "
      ]
     },
     "execution_count": 31,
     "metadata": {},
     "output_type": "execute_result"
    }
   ],
   "source": [
    "data2 = pd.read_csv(PUIdata + '/' + datestring + '-citibike-tripdata.csv', \n",
    "                   infer_datetime_format=True,\n",
    "                   parse_dates=['starttime', 'stoptime'])\n",
    "data2.head()"
   ]
  },
  {
   "cell_type": "code",
   "execution_count": 32,
   "metadata": {
    "collapsed": false
   },
   "outputs": [
    {
     "data": {
      "text/plain": [
       "Index(['tripduration', 'starttime', 'stoptime', 'start station id',\n",
       "       'start station name', 'start station latitude',\n",
       "       'start station longitude', 'end station id', 'end station name',\n",
       "       'end station latitude', 'end station longitude', 'bikeid', 'usertype',\n",
       "       'birth year', 'gender'],\n",
       "      dtype='object')"
      ]
     },
     "execution_count": 32,
     "metadata": {},
     "output_type": "execute_result"
    }
   ],
   "source": [
    "data2.columns"
   ]
  },
  {
   "cell_type": "code",
   "execution_count": 33,
   "metadata": {
    "collapsed": false
   },
   "outputs": [],
   "source": [
    "data2.drop(['tripduration', 'stoptime', 'start station id',\n",
    "       'start station name', 'start station latitude',\n",
    "       'start station longitude', 'end station id', 'end station name',\n",
    "       'end station latitude', 'end station longitude', 'bikeid',\n",
    "       'birth year', 'gender'], axis=1, inplace=True)"
   ]
  },
  {
   "cell_type": "code",
   "execution_count": 34,
   "metadata": {
    "collapsed": false
   },
   "outputs": [],
   "source": [
    "data2.rename(columns={'starttime': 'date'}, inplace=True)"
   ]
  },
  {
   "cell_type": "code",
   "execution_count": 35,
   "metadata": {
    "collapsed": false
   },
   "outputs": [
    {
     "data": {
      "text/html": [
       "<div>\n",
       "<table border=\"1\" class=\"dataframe\">\n",
       "  <thead>\n",
       "    <tr style=\"text-align: right;\">\n",
       "      <th></th>\n",
       "      <th>date</th>\n",
       "      <th>usertype</th>\n",
       "    </tr>\n",
       "  </thead>\n",
       "  <tbody>\n",
       "    <tr>\n",
       "      <th>0</th>\n",
       "      <td>2016-07-01 00:00:02</td>\n",
       "      <td>Customer</td>\n",
       "    </tr>\n",
       "    <tr>\n",
       "      <th>1</th>\n",
       "      <td>2016-07-01 00:00:18</td>\n",
       "      <td>Subscriber</td>\n",
       "    </tr>\n",
       "    <tr>\n",
       "      <th>2</th>\n",
       "      <td>2016-07-01 00:00:19</td>\n",
       "      <td>Subscriber</td>\n",
       "    </tr>\n",
       "    <tr>\n",
       "      <th>3</th>\n",
       "      <td>2016-07-01 00:00:24</td>\n",
       "      <td>Customer</td>\n",
       "    </tr>\n",
       "    <tr>\n",
       "      <th>4</th>\n",
       "      <td>2016-07-01 00:00:31</td>\n",
       "      <td>Customer</td>\n",
       "    </tr>\n",
       "  </tbody>\n",
       "</table>\n",
       "</div>"
      ],
      "text/plain": [
       "                 date    usertype\n",
       "0 2016-07-01 00:00:02    Customer\n",
       "1 2016-07-01 00:00:18  Subscriber\n",
       "2 2016-07-01 00:00:19  Subscriber\n",
       "3 2016-07-01 00:00:24    Customer\n",
       "4 2016-07-01 00:00:31    Customer"
      ]
     },
     "execution_count": 35,
     "metadata": {},
     "output_type": "execute_result"
    }
   ],
   "source": [
    "data2.head()"
   ]
  },
  {
   "cell_type": "code",
   "execution_count": 36,
   "metadata": {
    "collapsed": false,
    "scrolled": true
   },
   "outputs": [
    {
     "data": {
      "text/html": [
       "<div>\n",
       "<table border=\"1\" class=\"dataframe\">\n",
       "  <thead>\n",
       "    <tr style=\"text-align: right;\">\n",
       "      <th></th>\n",
       "      <th>date</th>\n",
       "      <th>usertype</th>\n",
       "    </tr>\n",
       "  </thead>\n",
       "  <tbody>\n",
       "    <tr>\n",
       "      <th>0</th>\n",
       "      <td>2016-07-01 00:00:02</td>\n",
       "      <td>0</td>\n",
       "    </tr>\n",
       "    <tr>\n",
       "      <th>1</th>\n",
       "      <td>2016-07-01 00:00:18</td>\n",
       "      <td>1</td>\n",
       "    </tr>\n",
       "    <tr>\n",
       "      <th>2</th>\n",
       "      <td>2016-07-01 00:00:19</td>\n",
       "      <td>1</td>\n",
       "    </tr>\n",
       "    <tr>\n",
       "      <th>3</th>\n",
       "      <td>2016-07-01 00:00:24</td>\n",
       "      <td>0</td>\n",
       "    </tr>\n",
       "    <tr>\n",
       "      <th>4</th>\n",
       "      <td>2016-07-01 00:00:31</td>\n",
       "      <td>0</td>\n",
       "    </tr>\n",
       "  </tbody>\n",
       "</table>\n",
       "</div>"
      ],
      "text/plain": [
       "                 date  usertype\n",
       "0 2016-07-01 00:00:02         0\n",
       "1 2016-07-01 00:00:18         1\n",
       "2 2016-07-01 00:00:19         1\n",
       "3 2016-07-01 00:00:24         0\n",
       "4 2016-07-01 00:00:31         0"
      ]
     },
     "execution_count": 36,
     "metadata": {},
     "output_type": "execute_result"
    }
   ],
   "source": [
    "data2.usertype = data2.usertype.replace('Subscriber', 1)\n",
    "data2.usertype = data2.usertype.replace('Customer', 0)\n",
    "data2.head()"
   ]
  },
  {
   "cell_type": "markdown",
   "metadata": {},
   "source": [
    "### Separating customer (\\_c) and subscriber (\\_w) to test the hypothesis.\n",
    "\n",
    "#### User Type (Customer = 24-hour pass or 3-day pass user; Subscriber = Annual Member)"
   ]
  },
  {
   "cell_type": "code",
   "execution_count": 37,
   "metadata": {
    "collapsed": true
   },
   "outputs": [],
   "source": [
    "counts_c07 = data2['date'][data2['usertype'] == 0].groupby([data2['date'].dt.weekday]).count()\n",
    "counts_s07 = data2['date'][data2['usertype'] == 1].groupby([data2['date'].dt.weekday]).count()"
   ]
  },
  {
   "cell_type": "code",
   "execution_count": 38,
   "metadata": {
    "collapsed": false
   },
   "outputs": [
    {
     "data": {
      "text/plain": [
       "pandas.core.series.Series"
      ]
     },
     "execution_count": 38,
     "metadata": {},
     "output_type": "execute_result"
    }
   ],
   "source": [
    "type(counts_c07)"
   ]
  },
  {
   "cell_type": "code",
   "execution_count": 39,
   "metadata": {
    "collapsed": false
   },
   "outputs": [
    {
     "data": {
      "text/plain": [
       "<matplotlib.legend.Legend at 0x7fcd5bc0ec18>"
      ]
     },
     "execution_count": 39,
     "metadata": {},
     "output_type": "execute_result"
    },
    {
     "data": {
      "image/png": "[encoded data removed]",
      "text/plain": [
       "<matplotlib.figure.Figure at 0x7fcd5bc167b8>"
      ]
     },
     "metadata": {},
     "output_type": "display_data"
    }
   ],
   "source": [
    "fig = pl.figure(figsize(8,8))\n",
    "norm_c07 = 1\n",
    "norm_s07 = 1\n",
    "\n",
    "ax = ((counts_c07)/norm_c07).plot(kind='bar', color='IndianRed', label='customer')\n",
    "ax = ((counts_s07)/norm_s07).plot(kind='bar', color='SteelBlue', label='subscriber', alpha=0.4)\n",
    "\n",
    "ax.xaxis.set_ticklabels(['Mon', 'Tue', 'Wed', 'Thu', 'Fri', 'Sat', 'Sun'], fontsize=15)\n",
    "ax.set_xlabel('Day of the week', fontsize=15)\n",
    "ax.set_ylabel('Number of riders', fontsize=15)\n",
    "ax.set_title('Distribution of Citibike Users by User Type in July 2016', fontsize=15)\n",
    "pl.legend()"
   ]
  },
  {
   "cell_type": "markdown",
   "metadata": {
    "collapsed": false
   },
   "source": [
    "## Figure 5. Distribution of Citibike users by user type in July 2016, absolute counts\n",
    "Based from the absolute counts, it can be seen that there seems to be more subscribers over than customers daily. However, it can also be seen that there is a decrease in the number of subscribers using the CitiBike on weekends."
   ]
  },
  {
   "cell_type": "markdown",
   "metadata": {},
   "source": [
    "#### For N counts, the error is $\\sqrt{N}$, because counts follow a Poisson statistic"
   ]
  },
  {
   "cell_type": "code",
   "execution_count": 51,
   "metadata": {
    "collapsed": false
   },
   "outputs": [
    {
     "data": {
      "text/plain": [
       "<matplotlib.legend.Legend at 0x7fcd5e2aa320>"
      ]
     },
     "execution_count": 51,
     "metadata": {},
     "output_type": "execute_result"
    },
    {
     "data": {
      "image/png": "[encoded data removed]",
      "text/plain": [
       "<matplotlib.figure.Figure at 0x7fcd5dc38198>"
      ]
     },
     "metadata": {},
     "output_type": "display_data"
    }
   ],
   "source": [
    "fig = pl.figure(figsize(8,8))\n",
    "\n",
    "norm_c07 = 1\n",
    "error_c07 = np.sqrt(counts_c07)\n",
    "ax = ((counts_c07) / norm_c07).plot(kind=\"bar\", color='IndianRed', label='customer',\n",
    "                               yerr=[((error_c07) / norm_c07, (error_c07) / norm_c07)])\n",
    "\n",
    "norm_s07 = 1\n",
    "error_s07 = np.sqrt(counts_s07)\n",
    "ax = ((counts_s07) / norm_s07).plot(kind=\"bar\", color='SteelBlue', alpha=0.5, label='subscriber',\n",
    "                               yerr=[((error_s07) / norm_s07, (error_s07) / norm_s07)])\n",
    "\n",
    "ax.xaxis.set_ticklabels(['Mon','Tue','Wed','Thu','Fri','Sat','Sun'], fontsize=15)\n",
    "ax.set_ylabel (\"Number of rides\", fontsize=15)\n",
    "ax.set_xlabel (\"Day of the week\", fontsize=15)\n",
    "ax.set_title('Distribution of Citibike Users by User Type in July 2016 with Statistical Errors', fontsize=15)\n",
    "pl.legend(['customer','subscriber'],fontsize=15)"
   ]
  },
  {
   "cell_type": "markdown",
   "metadata": {},
   "source": [
    "## Figure 6. Distribution of Citibike users by user type in July 2016, absolute counts, with statistical errors\n",
    "There's not much difference from Figure 5, except the statistical errors are included in this plot."
   ]
  },
  {
   "cell_type": "code",
   "execution_count": 50,
   "metadata": {
    "collapsed": false
   },
   "outputs": [
    {
     "data": {
      "text/plain": [
       "<matplotlib.legend.Legend at 0x7fcd51108048>"
      ]
     },
     "execution_count": 50,
     "metadata": {},
     "output_type": "execute_result"
    },
    {
     "data": {
      "image/png": "[encoded data removed]",
      "text/plain": [
       "<matplotlib.figure.Figure at 0x7fcd5bada320>"
      ]
     },
     "metadata": {},
     "output_type": "display_data"
    }
   ],
   "source": [
    "fig = pl.figure(figsize(8,8))\n",
    "\n",
    "norm_c07 = counts_c07.sum()\n",
    "ax = ((counts_c07) / norm_c07).plot(kind=\"bar\", color='IndianRed', label='customer',\n",
    "                               yerr=[((error_c07) / norm_c07, (error_c07) / norm_c07)])\n",
    "\n",
    "norm_s07 = counts_s07.sum()\n",
    "ax = ((counts_s07) / norm_s07).plot(kind=\"bar\", color='SteelBlue', alpha=0.5, \n",
    "                                label='subscriber', yerr=[((error_s07) / norm_s07, (error_s07) / norm_s07)])\n",
    "\n",
    "ax.xaxis.set_ticklabels(['Mon','Tue','Wed','Thu','Fri','Sat','Sun'], fontsize=15)\n",
    "ax.set_ylabel (\"Fraction of rides\", fontsize=15)\n",
    "ax.set_xlabel (\"Day of the week\", fontsize=15)\n",
    "ax.set_title('Normalised Distribution of Citibike Users by User Type in July 2016', fontsize=15)\n",
    "pl.legend(['customer','subscriber'],fontsize=15)"
   ]
  },
  {
   "cell_type": "markdown",
   "metadata": {},
   "source": [
    "## Figure 7. Distribution of Citibike users by user type in July 2016, normalized\n",
    "Now that the data is normalized, we can clearly see that there are more subscribers than customers out during the weekdays and that there are more customers than subscribers on the weekends."
   ]
  },
  {
   "cell_type": "markdown",
   "metadata": {},
   "source": [
    "# Set up the test of proportions"
   ]
  },
  {
   "cell_type": "code",
   "execution_count": 42,
   "metadata": {
    "collapsed": false
   },
   "outputs": [],
   "source": [
    "week_s07 = sum(counts_s07[:-2]) * 1.0 / norm_s07\n",
    "weekend_s07 = sum(counts_s07[-2:]) * 1.0 / norm_s07\n",
    "\n",
    "eweek_s07 = np.sqrt(sum(error_s07[:-2]**2)) / norm_s07\n",
    "eweekend_s07 = np.sqrt(sum(error_s07[-2:]**2)) / norm_s07\n",
    "\n",
    "week_c07 = sum(counts_c07[:-2]) * 1.0 / norm_c07\n",
    "weekend_c07 = sum(counts_c07[-2:]) * 1.0 / norm_c07\n",
    "\n",
    "eweek_c07 = np.sqrt(sum(error_c07[:-2]**2)) / norm_c07\n",
    "eweekend_c07 = np.sqrt(sum(error_c07[-2:]**2)) / norm_c07"
   ]
  },
  {
   "cell_type": "code",
   "execution_count": 43,
   "metadata": {
    "collapsed": false
   },
   "outputs": [
    {
     "name": "stdout",
     "output_type": "stream",
     "text": [
      "Subrscriber: week:0.7732, weekend:0.2268, weekend error:0.0008, weekend error:0.0004\n",
      "Customer: week:0.5220, weekend:0.4780, weekend error:0.0016, weekend error:0.0015\n"
     ]
    }
   ],
   "source": [
    "print(\"Subrscriber: week:{0:.4f}, weekend:{1:.4f}, weekend error:{2:.4f}, weekend error:{3:.4f}\"\\\n",
    "      .format(week_s07, weekend_s07, eweek_s07, eweekend_s07))\n",
    "print(\"Customer: week:{0:.4f}, weekend:{1:.4f}, weekend error:{2:.4f}, weekend error:{3:.4f}\"\\\n",
    "      .format(week_c07, weekend_c07, eweek_c07, eweekend_c07))"
   ]
  },
  {
   "cell_type": "code",
   "execution_count": 44,
   "metadata": {
    "collapsed": false
   },
   "outputs": [
    {
     "data": {
      "text/plain": [
       "<matplotlib.legend.Legend at 0x7fcd5d610470>"
      ]
     },
     "execution_count": 44,
     "metadata": {},
     "output_type": "execute_result"
    },
    {
     "data": {
      "image/png": "[encoded data removed]",
      "text/plain": [
       "<matplotlib.figure.Figure at 0x7fcd4f0c8b00>"
      ]
     },
     "metadata": {},
     "output_type": "display_data"
    }
   ],
   "source": [
    "fig = pl.figure(figsize(15,6))\n",
    "ax1 = fig.add_subplot(121)\n",
    "ax2 = fig.add_subplot(122)\n",
    "ax1.set_xticks([])\n",
    "ax2.set_xticks([])\n",
    "\n",
    "ax1.errorbar([0.4], [week_s07], yerr=[eweek_s07], fmt='o', label='subscriber')\n",
    "ax1.errorbar([0.1], [week_c07], yerr=[eweek_c07], fmt='o', label='customer')\n",
    "ax1.set_xlim(0, 0.5)\n",
    "ax2.errorbar([0.4], [weekend_s07], yerr=[eweekend_s07], fmt='o', label='subscriber')\n",
    "ax2.errorbar([0.1], [weekend_c07], yerr=[eweekend_c07], fmt='o', label='customer')\n",
    "ax1.set_xlim(0, 0.5)\n",
    "ax1.set_title(\"week days\")\n",
    "ax2.set_title(\"weekends\")\n",
    "ax2.set_ylabel(\"Fraction of normalized rides by customer type\")\n",
    "ax1.set_ylabel(\"Fraction of normalized rides by customer type\")\n",
    "\n",
    "pl.xlim(-0.5, 1.5)\n",
    "pl.legend(fontsize = 20)"
   ]
  },
  {
   "cell_type": "markdown",
   "metadata": {},
   "source": [
    "## Figure 4. Fraction of Citibike bikers per customer type in December 2016 for weekdays (left) and weekends (right)"
   ]
  },
  {
   "cell_type": "code",
   "execution_count": 45,
   "metadata": {
    "collapsed": false
   },
   "outputs": [
    {
     "name": "stdout",
     "output_type": "stream",
     "text": [
      "Sample size:\n",
      "Subscriber: week: 911052.00, weekend: 267167.00, total: 1178219.00\n",
      "Customer: week: 105396.00, weekend: 96495.00, total: 201891.00\n"
     ]
    }
   ],
   "source": [
    "week_count_s07 = sum(counts_s07[:-2]) * 1.0\n",
    "weekend_count_s07 = sum(counts_s07[-2:]) * 1.0\n",
    "\n",
    "week_count_c07 = sum(counts_c07[:-2]) * 1.0\n",
    "weekend_count_c07 = sum(counts_c07[-2:]) * 1.0\n",
    "\n",
    "print('Sample size:')\n",
    "print('Subscriber: week: {0:.2f}, weekend: {1:.2f}, total: {2:.2f}'\\\n",
    "      .format(week_count_s07, weekend_count_s07, week_count_s07 + weekend_count_s07))\n",
    "print('Customer: week: {0:.2f}, weekend: {1:.2f}, total: {2:.2f}'\\\n",
    "      .format(week_count_c07, weekend_count_c07, week_count_c07 + weekend_count_c07))"
   ]
  },
  {
   "cell_type": "markdown",
   "metadata": {},
   "source": [
    "| User Type       |      weekday      |     weekend       |                   \n",
    "|-----------------|-------------------|-------------------|-----------|\n",
    "| Subscriber      | 0.819 * 1,178,219 | 0.181 * 1,178,219 | 1,178,219 |\n",
    "| Customer        | 0.615 *   201,891 | 0.385 *   201,891 |   201,891 |\n",
    "|                 |                   |                   |           |\n",
    "| TOTAL           |     1,016,448     |      363,662      | 1,380,110 |"
   ]
  },
  {
   "cell_type": "code",
   "execution_count": 46,
   "metadata": {
    "collapsed": false,
    "scrolled": true
   },
   "outputs": [
    {
     "name": "stdout",
     "output_type": "stream",
     "text": [
      "[[ 911052.  267167.]\n",
      " [ 105396.   96495.]]\n"
     ]
    }
   ],
   "source": [
    "sample_values07 = np.array([[week_s07 * sum(counts_s07), weekend_s07 * sum(counts_s07)],\\\n",
    "                            [week_c07 * sum(counts_c07), weekend_c07 * sum(counts_c07)]])\n",
    "print(sample_values07)"
   ]
  },
  {
   "cell_type": "code",
   "execution_count": 47,
   "metadata": {
    "collapsed": false
   },
   "outputs": [],
   "source": [
    "chisq07 = evalChisq(sample_values07)"
   ]
  },
  {
   "cell_type": "code",
   "execution_count": 48,
   "metadata": {
    "collapsed": false
   },
   "outputs": [
    {
     "name": "stdout",
     "output_type": "stream",
     "text": [
      "chi sq statistics for user type ridership on weekdays vs weekends: chisq = 56042.334, DOF = 1\n"
     ]
    }
   ],
   "source": [
    "# degrees of freedom: Nvar - 1 \n",
    "DOF07 = len(sample_values07) - 1\n",
    "print ('chi sq statistics for user type ridership on weekdays vs weekends: '+\n",
    "       'chisq = {:.3f}, DOF = {:d}'.format(chisq07, DOF07))"
   ]
  },
  {
   "cell_type": "code",
   "execution_count": 49,
   "metadata": {
    "collapsed": false
   },
   "outputs": [
    {
     "name": "stdout",
     "output_type": "stream",
     "text": [
      "The null hypothesis that subscribers bike more on the weekends and customers bike more on weekdays\n",
      "can be rejected at alpha = 0.05\n",
      "with a chi square statistics of 56042.33\n"
     ]
    }
   ],
   "source": [
    "chi_minalpha95 = 3.84\n",
    "print (\"The null hypothesis that subscribers bike more on the weekends and customers bike more on weekdays\")\n",
    "if chisq > chi_minalpha95 :\n",
    "    print (\"can be rejected at alpha = 0.05\")\n",
    "else: \n",
    "    print (\"cannot be rejected (p<0.05)\")\n",
    "print (\"with a chi square statistics of {:.2f}\".format(chisq07))\n"
   ]
  },
  {
   "cell_type": "markdown",
   "metadata": {},
   "source": [
    "| Reporting Month | Chi-square statistic |\n",
    "| --------------- | -------------------- |\n",
    "| March 2015      | 2,154.94             |\n",
    "| June 2015       | 31,520.97            |\n",
    "| July 2016       | 56,042.33            |\n",
    "| December 2016   | 8,458.31             |"
   ]
  }
 ],
 "metadata": {
  "kernelspec": {
   "display_name": "PUI2016_Python3",
   "language": "python",
   "name": "pui2016_python3"
  },
  "language_info": {
   "codemirror_mode": {
    "name": "ipython",
    "version": 3
   },
   "file_extension": ".py",
   "mimetype": "text/x-python",
   "name": "python",
   "nbconvert_exporter": "python",
   "pygments_lexer": "ipython3",
   "version": "3.5.4"
  }
 },
 "nbformat": 4,
 "nbformat_minor": 0
}
